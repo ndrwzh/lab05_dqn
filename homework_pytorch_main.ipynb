{
  "cells": [
    {
      "cell_type": "markdown",
      "metadata": {
        "id": "1NDjJiqysoT-"
      },
      "source": [
        "# Deep Q-Network implementation.\n",
        "\n",
        "This homework shamelessly demands you to implement DQN — an approximate Q-learning algorithm with experience replay and target networks — and see if it works any better this way.\n",
        "\n",
        "**Papers:**\n",
        "\n",
        "[1] Original paper, 2013: https://arxiv.org/pdf/1312.5602.pdf\n",
        "\n",
        "[2] Extended paper, Nature, 2015: https://web.stanford.edu/class/psych209/Readings/MnihEtAlHassibis15NatureControlDeepRL.pdf\n",
        "\n",
        "[3] Rainbow, 2017: https://arxiv.org/pdf/1710.02298.pdf"
      ]
    },
    {
      "cell_type": "markdown",
      "metadata": {
        "id": "BcLhaXMKsoT_"
      },
      "source": [
        "**This notebook is the main homework notebook.**\n",
        "Another notebook is given for debug: (**homework_pytorch_debug**). The debug notebook is not supported anymore, the codes have diverged. However, it can be useful in some cases. The tasks are similar and they used to share most of the code. The main difference is in environments. In main notebook it can take some 2 hours for the agent to start improving so it seems reasonable to launch the algorithm on a simpler env first. In debug one it is CartPole and it will train in several minutes.\n",
        "\n",
        "**About evaluation:** All points are only given for the main notebook.\n",
        "\n",
        "**Plan and evaluation points:**\n",
        "1. Getting to know the environment: most of the code is implemented for you\n",
        "2. DQN as it is (10 points): the main part of DQN implementation\n",
        "3. Main Loop (3 points): the training loop itself. Please, note, it can be really time-consuming, and implementation bugs can arise.\n",
        "4. Interpretation (2 points): calculation of episode statistics and their interpretation"
      ]
    },
    {
      "cell_type": "code",
      "execution_count": 2,
      "metadata": {
        "id": "IVo0UxTWsoT_",
        "colab": {
          "base_uri": "https://localhost:8080/"
        },
        "outputId": "5ec40f27-59a5-47b8-cf28-7adb266b0c24"
      },
      "outputs": [
        {
          "output_type": "stream",
          "name": "stdout",
          "text": [
            "Starting virtual X frame buffer: Xvfb.\n"
          ]
        }
      ],
      "source": [
        "import sys, os\n",
        "if 'google.colab' in sys.modules and not os.path.exists('.setup_complete'):\n",
        "    !wget -q https://raw.githubusercontent.com/yandexdataschool/Practical_RL/master/setup_colab.sh -O- | bash\n",
        "\n",
        "    !wget -q https://raw.githubusercontent.com/yandexdataschool/Practical_RL/master/week04_approx_rl/dqn/atari_wrappers.py\n",
        "    !wget -q https://raw.githubusercontent.com/yandexdataschool/Practical_RL/master/week04_approx_rl/dqn/utils.py\n",
        "    !wget -q https://raw.githubusercontent.com/yandexdataschool/Practical_RL/master/week04_approx_rl/dqn/replay_buffer.py\n",
        "    !wget -q https://raw.githubusercontent.com/yandexdataschool/Practical_RL/master/week04_approx_rl/dqn/framebuffer.py\n",
        "\n",
        "    !wget -q https://raw.githubusercontent.com/yandexdataschool/Practical_RL/master/week04_approx_rl/tests/compute_td_loss.py -P tests/\n",
        "    !touch tests/__init__.py\n",
        "\n",
        "    !touch .setup_complete\n",
        "\n",
        "# This code creates a virtual display to draw game images on.\n",
        "# It will have no effect if your machine has a monitor.\n",
        "if type(os.environ.get(\"DISPLAY\")) is not str or len(os.environ.get(\"DISPLAY\")) == 0:\n",
        "    !bash ../xvfb start\n",
        "    os.environ['DISPLAY'] = ':1'"
      ]
    },
    {
      "cell_type": "markdown",
      "metadata": {
        "id": "KkrBeP7YsoUA"
      },
      "source": [
        "__Frameworks__ - we'll accept this homework in any deep learning framework. This particular notebook was designed for PyTorch, but you find it easy to adapt it to almost any Python-based deep learning framework."
      ]
    },
    {
      "cell_type": "code",
      "source": [
        "!pip install gymnasium numpy torch matplotlib tqdm"
      ],
      "metadata": {
        "colab": {
          "base_uri": "https://localhost:8080/"
        },
        "id": "nmJ_p-wFhvqV",
        "outputId": "1cd5e185-c592-4a49-d76d-b1d590ea578e"
      },
      "execution_count": 3,
      "outputs": [
        {
          "output_type": "stream",
          "name": "stdout",
          "text": [
            "Requirement already satisfied: gymnasium in /usr/local/lib/python3.11/dist-packages (1.1.1)\n",
            "Requirement already satisfied: numpy in /usr/local/lib/python3.11/dist-packages (2.0.2)\n",
            "Requirement already satisfied: torch in /usr/local/lib/python3.11/dist-packages (2.6.0+cu124)\n",
            "Requirement already satisfied: matplotlib in /usr/local/lib/python3.11/dist-packages (3.10.0)\n",
            "Requirement already satisfied: tqdm in /usr/local/lib/python3.11/dist-packages (4.67.1)\n",
            "Requirement already satisfied: cloudpickle>=1.2.0 in /usr/local/lib/python3.11/dist-packages (from gymnasium) (3.1.1)\n",
            "Requirement already satisfied: typing-extensions>=4.3.0 in /usr/local/lib/python3.11/dist-packages (from gymnasium) (4.13.2)\n",
            "Requirement already satisfied: farama-notifications>=0.0.1 in /usr/local/lib/python3.11/dist-packages (from gymnasium) (0.0.4)\n",
            "Requirement already satisfied: filelock in /usr/local/lib/python3.11/dist-packages (from torch) (3.18.0)\n",
            "Requirement already satisfied: networkx in /usr/local/lib/python3.11/dist-packages (from torch) (3.4.2)\n",
            "Requirement already satisfied: jinja2 in /usr/local/lib/python3.11/dist-packages (from torch) (3.1.6)\n",
            "Requirement already satisfied: fsspec in /usr/local/lib/python3.11/dist-packages (from torch) (2025.3.2)\n",
            "Requirement already satisfied: nvidia-cuda-nvrtc-cu12==12.4.127 in /usr/local/lib/python3.11/dist-packages (from torch) (12.4.127)\n",
            "Requirement already satisfied: nvidia-cuda-runtime-cu12==12.4.127 in /usr/local/lib/python3.11/dist-packages (from torch) (12.4.127)\n",
            "Requirement already satisfied: nvidia-cuda-cupti-cu12==12.4.127 in /usr/local/lib/python3.11/dist-packages (from torch) (12.4.127)\n",
            "Requirement already satisfied: nvidia-cudnn-cu12==9.1.0.70 in /usr/local/lib/python3.11/dist-packages (from torch) (9.1.0.70)\n",
            "Requirement already satisfied: nvidia-cublas-cu12==12.4.5.8 in /usr/local/lib/python3.11/dist-packages (from torch) (12.4.5.8)\n",
            "Requirement already satisfied: nvidia-cufft-cu12==11.2.1.3 in /usr/local/lib/python3.11/dist-packages (from torch) (11.2.1.3)\n",
            "Requirement already satisfied: nvidia-curand-cu12==10.3.5.147 in /usr/local/lib/python3.11/dist-packages (from torch) (10.3.5.147)\n",
            "Requirement already satisfied: nvidia-cusolver-cu12==11.6.1.9 in /usr/local/lib/python3.11/dist-packages (from torch) (11.6.1.9)\n",
            "Requirement already satisfied: nvidia-cusparse-cu12==12.3.1.170 in /usr/local/lib/python3.11/dist-packages (from torch) (12.3.1.170)\n",
            "Requirement already satisfied: nvidia-cusparselt-cu12==0.6.2 in /usr/local/lib/python3.11/dist-packages (from torch) (0.6.2)\n",
            "Requirement already satisfied: nvidia-nccl-cu12==2.21.5 in /usr/local/lib/python3.11/dist-packages (from torch) (2.21.5)\n",
            "Requirement already satisfied: nvidia-nvtx-cu12==12.4.127 in /usr/local/lib/python3.11/dist-packages (from torch) (12.4.127)\n",
            "Requirement already satisfied: nvidia-nvjitlink-cu12==12.4.127 in /usr/local/lib/python3.11/dist-packages (from torch) (12.4.127)\n",
            "Requirement already satisfied: triton==3.2.0 in /usr/local/lib/python3.11/dist-packages (from torch) (3.2.0)\n",
            "Requirement already satisfied: sympy==1.13.1 in /usr/local/lib/python3.11/dist-packages (from torch) (1.13.1)\n",
            "Requirement already satisfied: mpmath<1.4,>=1.1.0 in /usr/local/lib/python3.11/dist-packages (from sympy==1.13.1->torch) (1.3.0)\n",
            "Requirement already satisfied: contourpy>=1.0.1 in /usr/local/lib/python3.11/dist-packages (from matplotlib) (1.3.2)\n",
            "Requirement already satisfied: cycler>=0.10 in /usr/local/lib/python3.11/dist-packages (from matplotlib) (0.12.1)\n",
            "Requirement already satisfied: fonttools>=4.22.0 in /usr/local/lib/python3.11/dist-packages (from matplotlib) (4.58.0)\n",
            "Requirement already satisfied: kiwisolver>=1.3.1 in /usr/local/lib/python3.11/dist-packages (from matplotlib) (1.4.8)\n",
            "Requirement already satisfied: packaging>=20.0 in /usr/local/lib/python3.11/dist-packages (from matplotlib) (24.2)\n",
            "Requirement already satisfied: pillow>=8 in /usr/local/lib/python3.11/dist-packages (from matplotlib) (11.2.1)\n",
            "Requirement already satisfied: pyparsing>=2.3.1 in /usr/local/lib/python3.11/dist-packages (from matplotlib) (3.2.3)\n",
            "Requirement already satisfied: python-dateutil>=2.7 in /usr/local/lib/python3.11/dist-packages (from matplotlib) (2.9.0.post0)\n",
            "Requirement already satisfied: six>=1.5 in /usr/local/lib/python3.11/dist-packages (from python-dateutil>=2.7->matplotlib) (1.17.0)\n",
            "Requirement already satisfied: MarkupSafe>=2.0 in /usr/local/lib/python3.11/dist-packages (from jinja2->torch) (3.0.2)\n"
          ]
        }
      ]
    },
    {
      "cell_type": "code",
      "execution_count": 4,
      "metadata": {
        "id": "0ABRgp2-sq5a",
        "colab": {
          "base_uri": "https://localhost:8080/"
        },
        "outputId": "e96e8102-872f-4e36-b1b7-d7492613f646"
      },
      "outputs": [
        {
          "output_type": "stream",
          "name": "stdout",
          "text": [
            "\u001b[31mERROR: Could not open requirements file: [Errno 2] No such file or directory: 'requirements.txt'\u001b[0m\u001b[31m\n",
            "\u001b[0m"
          ]
        }
      ],
      "source": [
        "!pip install -r requirements.txt"
      ]
    },
    {
      "cell_type": "code",
      "execution_count": 5,
      "metadata": {
        "id": "P8WoWe9DsoUA"
      },
      "outputs": [],
      "source": [
        "%matplotlib inline\n",
        "import gymnasium as gym\n",
        "import numpy as np\n",
        "import matplotlib.pyplot as plt"
      ]
    },
    {
      "cell_type": "markdown",
      "metadata": {
        "id": "6GQBgViKsoUA"
      },
      "source": [
        "### Let's play some old videogames\n",
        "![img](https://github.com/yandexdataschool/Practical_RL/raw/master/yet_another_week/_resource/nerd.png)\n",
        "\n",
        "This time we're gonna apply approximate Q-learning to an Atari game called Breakout. It's not the hardest thing out there, but it's definitely way more complex than anything we have tried before."
      ]
    },
    {
      "cell_type": "markdown",
      "metadata": {
        "id": "VBGMBAkuarge"
      },
      "source": [
        "**These are various versions of Breakout provided by Gynmasium:**"
      ]
    },
    {
      "cell_type": "code",
      "execution_count": 6,
      "metadata": {
        "id": "Df1kgHsxarge",
        "colab": {
          "base_uri": "https://localhost:8080/"
        },
        "outputId": "081708e5-d17f-4a83-a5c0-bbf1b112f102"
      },
      "outputs": [
        {
          "output_type": "execute_result",
          "data": {
            "text/plain": [
              "[]"
            ]
          },
          "metadata": {},
          "execution_count": 6
        }
      ],
      "source": [
        "all_names = list(gym.envs.registry.keys())\n",
        "names_breakout = [name for name in all_names if \"Break\" in name]\n",
        "names_breakout"
      ]
    },
    {
      "cell_type": "code",
      "execution_count": 7,
      "metadata": {
        "id": "S_zvw_31soUA"
      },
      "outputs": [],
      "source": [
        "# ENV_NAME = \"BreakoutDeterministic-v4\"  # this one is simpler\n",
        "ENV_NAME = \"ALE/Breakout-v5\""
      ]
    },
    {
      "cell_type": "markdown",
      "metadata": {
        "id": "3_bTjOuzargf"
      },
      "source": [
        "If you are curious about Atari environments in Gymnasium, please, refer to:\n",
        "- [4] Gymnasium docs: https://gymnasium.farama.org/environments/atari/\n",
        "- [5] Longer paper: https://arxiv.org/abs/1709.06009\n",
        "- [6] Shorter paper: https://www.ijcai.org/Proceedings/2018/0787.pdf\n",
        "\n",
        "For now it's enough to know about the v5 environments:\n",
        "- v5 environments are recommended for use\n",
        "- frame_skip=5, every 5-th frame is shown to the agent and the chosen action is executed for the next 5 moves\n",
        "- randomness comes from repeat_action_probability=0.25: with this probability the previous action is executed instead of the chosen action"
      ]
    },
    {
      "cell_type": "markdown",
      "metadata": {
        "id": "xT9BvasNsoUA"
      },
      "source": [
        "## Getting to know the Environment"
      ]
    },
    {
      "cell_type": "markdown",
      "metadata": {
        "id": "iwN8jA0OsoUA"
      },
      "source": [
        "**Let's see what observations look like.**"
      ]
    },
    {
      "cell_type": "code",
      "source": [
        "!pip install ale-py"
      ],
      "metadata": {
        "colab": {
          "base_uri": "https://localhost:8080/"
        },
        "id": "AYMHHN-1il8t",
        "outputId": "e1c7e055-a6a5-41a7-be17-7d8728f96850"
      },
      "execution_count": 8,
      "outputs": [
        {
          "output_type": "stream",
          "name": "stdout",
          "text": [
            "Requirement already satisfied: ale-py in /usr/local/lib/python3.11/dist-packages (0.11.0)\n",
            "Requirement already satisfied: numpy>1.20 in /usr/local/lib/python3.11/dist-packages (from ale-py) (2.0.2)\n"
          ]
        }
      ]
    },
    {
      "cell_type": "code",
      "execution_count": 9,
      "metadata": {
        "id": "YouErllRargf",
        "colab": {
          "base_uri": "https://localhost:8080/",
          "height": 434
        },
        "outputId": "ab2ef336-ff42-4884-cc77-cd89260530e0"
      },
      "outputs": [
        {
          "output_type": "display_data",
          "data": {
            "text/plain": [
              "<Figure size 640x480 with 1 Axes>"
            ],
            "image/png": "[encoded data removed]"
          },
          "metadata": {}
        }
      ],
      "source": [
        "import ale_py\n",
        "env = gym.make(ENV_NAME, render_mode=\"rgb_array\")\n",
        "env.reset()\n",
        "plt.imshow(env.render())\n",
        "plt.show()"
      ]
    },
    {
      "cell_type": "markdown",
      "metadata": {
        "id": "c7hmcz8Kargf"
      },
      "source": [
        "**Some more observations, coming from taking random actions**"
      ]
    },
    {
      "cell_type": "code",
      "execution_count": 10,
      "metadata": {
        "id": "rUZHU2HdsoUB",
        "colab": {
          "base_uri": "https://localhost:8080/",
          "height": 691
        },
        "outputId": "8114ecf1-20a9-417e-b800-01d071ff99eb"
      },
      "outputs": [
        {
          "output_type": "display_data",
          "data": {
            "text/plain": [
              "<Figure size 1600x900 with 10 Axes>"
            ],
            "image/png": "[encoded data removed]"
          },
          "metadata": {}
        }
      ],
      "source": [
        "env = gym.make(ENV_NAME, render_mode=\"rgb_array\")\n",
        "env.reset()\n",
        "\n",
        "n_cols = 5\n",
        "n_rows = 2\n",
        "fig = plt.figure(figsize=(16, 9))\n",
        "\n",
        "for row in range(n_rows):\n",
        "    for col in range(n_cols):\n",
        "        ax = fig.add_subplot(n_rows, n_cols, row * n_cols + col + 1)\n",
        "        ax.imshow(env.render())\n",
        "        env.step(env.action_space.sample())\n",
        "plt.show()"
      ]
    },
    {
      "cell_type": "markdown",
      "metadata": {
        "id": "IUfKHVM0argf"
      },
      "source": [
        "**About the game:** You have 5 lives and get points for breaking the wall. Higher bricks cost more than the lower ones. There are 4 actions: start game (should be called at the beginning and after each life is lost), move left, move right and do nothing. There are some common wrappers used for Atari environments."
      ]
    },
    {
      "cell_type": "markdown",
      "metadata": {
        "id": "its7-Y4Cargf"
      },
      "source": [
        "**Let's take a look at action meanings:**"
      ]
    },
    {
      "cell_type": "code",
      "execution_count": 11,
      "metadata": {
        "id": "MZ56C6Laargg",
        "colab": {
          "base_uri": "https://localhost:8080/"
        },
        "outputId": "c82bb155-e178-4730-f56f-fead542fc784"
      },
      "outputs": [
        {
          "output_type": "execute_result",
          "data": {
            "text/plain": [
              "['NOOP', 'FIRE', 'RIGHT', 'LEFT']"
            ]
          },
          "metadata": {},
          "execution_count": 11
        }
      ],
      "source": [
        "env.unwrapped.get_action_meanings()"
      ]
    },
    {
      "cell_type": "markdown",
      "metadata": {
        "id": "zsx2IyFRargg"
      },
      "source": [
        "1. NOOP stands for the action of doing nothing\n",
        "2. Right and Left move the platform to the corresponding direction\n",
        "3. Fire releases the ball in the beginning of a life\n",
        "\n",
        "In this assignment we will wrap the environment to execute the \"Fire\" action in the beginning of a life automatically. It will turn the \"FIRE\" action into another \"NOOP\".  \n",
        "Also, we will wrap the environment to make an episode last for 1 life instead of 5 ones.  \n",
        "These transforms are claimed as non-recommended in the paper [5] but it was done in the original paper [1] and it will help the training to converge faster."
      ]
    },
    {
      "cell_type": "markdown",
      "metadata": {
        "id": "hLNt1fbnsoUB"
      },
      "source": [
        "**Let's play a little.**\n",
        "\n",
        "Pay attention to zoom and fps args of play function. Control: A, D, space."
      ]
    },
    {
      "cell_type": "code",
      "execution_count": 12,
      "metadata": {
        "id": "WOIL47azsoUB"
      },
      "outputs": [],
      "source": [
        "# # Does not work in Colab.\n",
        "# Even on a local laptop breaks matplotlib rendering. So it's recommended to restart the notebook after playing.\n",
        "# # Use the Escape button to continue.\n",
        "\n",
        "# from gymnasium.utils.play import play\n",
        "\n",
        "# play(env=gym.make(ENV_NAME, render_mode=\"rgb_array\"), zoom=4, fps=10)"
      ]
    },
    {
      "cell_type": "markdown",
      "metadata": {
        "id": "2_G9bAXUargg"
      },
      "source": [
        "## Wrapping the Environment"
      ]
    },
    {
      "cell_type": "code",
      "execution_count": 13,
      "metadata": {
        "id": "Vv3YVl41argg"
      },
      "outputs": [],
      "source": [
        "def make_basic_env():\n",
        "    return gym.make(ENV_NAME, render_mode=\"rgb_array\")"
      ]
    },
    {
      "cell_type": "markdown",
      "metadata": {
        "id": "5DPrxQuXsoUB"
      },
      "source": [
        "### Processing game image\n",
        "\n",
        "Let's check the shape and the dtype of the observation:"
      ]
    },
    {
      "cell_type": "code",
      "execution_count": 14,
      "metadata": {
        "id": "y8Nl9A0Largg",
        "colab": {
          "base_uri": "https://localhost:8080/"
        },
        "outputId": "eb0c4d0e-fa2c-4389-da4b-6c4b27bec186"
      },
      "outputs": [
        {
          "output_type": "execute_result",
          "data": {
            "text/plain": [
              "((210, 160, 3), dtype('uint8'))"
            ]
          },
          "metadata": {},
          "execution_count": 14
        }
      ],
      "source": [
        "env = make_basic_env()\n",
        "obs, *_ = env.reset()\n",
        "obs.shape, obs.dtype"
      ]
    },
    {
      "cell_type": "markdown",
      "metadata": {
        "id": "BFPqOcUIargg"
      },
      "source": [
        "Raw Atari images are large, 210x160x3 by default. However, we don't need that level of detail in order to learn from them.\n",
        "\n",
        "We can thus save a lot of time by preprocessing game image, including\n",
        "* Resizing to a smaller shape, 64x64 (or 84 x 84, which is used in literature)\n",
        "* Converting to grayscale\n",
        "* Cropping irrelevant image parts (top, bottom and edges) \\[we won't do this\\]\n",
        "\n",
        "The images are of the uint8 dtype.  \n",
        "uint8 stands for the 8-bit unsigned integer type.  \n",
        "We are going to store 10^5 or 10^6 observations in memory (RAM), so let's pay attention to preserving the 8-bit type after our transforms."
      ]
    },
    {
      "cell_type": "code",
      "execution_count": 15,
      "metadata": {
        "id": "dGbiFS1zargg",
        "colab": {
          "base_uri": "https://localhost:8080/",
          "height": 450
        },
        "outputId": "640e65fe-68d4-480f-c3b6-93ada4a61fa2"
      },
      "outputs": [
        {
          "output_type": "stream",
          "name": "stdout",
          "text": [
            "(84, 84) uint8\n"
          ]
        },
        {
          "output_type": "display_data",
          "data": {
            "text/plain": [
              "<Figure size 640x480 with 1 Axes>"
            ],
            "image/png": "[encoded data removed]"
          },
          "metadata": {}
        }
      ],
      "source": [
        "def apply_gray_scale_wrap(env):\n",
        "    # With the argument values chosen as below, the gym.wrappers.AtariPreprocessing wrapper\n",
        "    # only converts images to grayscale and downsamples them the screen_size\n",
        "    env = gym.wrappers.AtariPreprocessing(\n",
        "        env,\n",
        "        noop_max=0,  # the default value 30 can be harmful with FireResetEnv and frame_skip=5\n",
        "        frame_skip=1,  # frame_skip has already been set to 5 inside the env\n",
        "        terminal_on_life_loss=False,  # we do this explicitly in the FireResetEnv wrapper\n",
        "        screen_size=84  # please use 84 (which is the standard value) or 64 (which will save some computations and memory)\n",
        "    )\n",
        "    return env\n",
        "\n",
        "\n",
        "env = make_basic_env()\n",
        "env = apply_gray_scale_wrap(env)\n",
        "\n",
        "obs, *_ = env.reset()\n",
        "\n",
        "assert obs.dtype == np.dtype('uint8'), obs_dtype\n",
        "\n",
        "print(obs.shape, obs.dtype)\n",
        "plt.imshow(obs)\n",
        "plt.show()"
      ]
    },
    {
      "cell_type": "markdown",
      "metadata": {
        "id": "qIb_3va9argg"
      },
      "source": [
        "### Atari specific wrappers\n",
        "\n",
        "We try to make our lives a little easier with the following wrappers:\n",
        "1. EpisodicLifeEnv it makes the signal that dropping a ball is not good more explicit\n",
        "2. Using FireResetEnv: with it the agent doesn't have to perform a special action to fire the ball in the beginning of a life"
      ]
    },
    {
      "cell_type": "code",
      "source": [
        "!pip install gymnasium[atari]"
      ],
      "metadata": {
        "colab": {
          "base_uri": "https://localhost:8080/"
        },
        "id": "k1op8jsIi0ol",
        "outputId": "e3011ab9-a72d-4abc-9862-fd2c522371bc"
      },
      "execution_count": 16,
      "outputs": [
        {
          "output_type": "stream",
          "name": "stdout",
          "text": [
            "Requirement already satisfied: gymnasium[atari] in /usr/local/lib/python3.11/dist-packages (1.1.1)\n",
            "Requirement already satisfied: numpy>=1.21.0 in /usr/local/lib/python3.11/dist-packages (from gymnasium[atari]) (2.0.2)\n",
            "Requirement already satisfied: cloudpickle>=1.2.0 in /usr/local/lib/python3.11/dist-packages (from gymnasium[atari]) (3.1.1)\n",
            "Requirement already satisfied: typing-extensions>=4.3.0 in /usr/local/lib/python3.11/dist-packages (from gymnasium[atari]) (4.13.2)\n",
            "Requirement already satisfied: farama-notifications>=0.0.1 in /usr/local/lib/python3.11/dist-packages (from gymnasium[atari]) (0.0.4)\n",
            "Requirement already satisfied: ale_py>=0.9 in /usr/local/lib/python3.11/dist-packages (from gymnasium[atari]) (0.11.0)\n"
          ]
        }
      ]
    },
    {
      "cell_type": "code",
      "execution_count": 17,
      "metadata": {
        "id": "vqx-3Xqtargh",
        "colab": {
          "base_uri": "https://localhost:8080/",
          "height": 450
        },
        "outputId": "4b0ccccc-8d12-4c9f-ecb5-5857430731fc"
      },
      "outputs": [
        {
          "output_type": "stream",
          "name": "stdout",
          "text": [
            "(84, 84) uint8\n"
          ]
        },
        {
          "output_type": "display_data",
          "data": {
            "text/plain": [
              "<Figure size 640x480 with 1 Axes>"
            ],
            "image/png": "[encoded data removed]"
          },
          "metadata": {}
        }
      ],
      "source": [
        "from atari_wrappers import FireResetEnv, EpisodicLifeEnv\n",
        "\n",
        "def apply_atary_specific_wrap(env):\n",
        "    env = EpisodicLifeEnv(env)\n",
        "    env = FireResetEnv(env)\n",
        "    return env\n",
        "\n",
        "env = make_basic_env()\n",
        "env = apply_gray_scale_wrap(env)\n",
        "env = apply_atary_specific_wrap(env)\n",
        "\n",
        "obs, *_ = env.reset()\n",
        "\n",
        "print(obs.shape, obs.dtype)\n",
        "plt.imshow(obs)\n",
        "plt.show()"
      ]
    },
    {
      "cell_type": "markdown",
      "metadata": {
        "id": "slog3wQ9argh"
      },
      "source": [
        "### FrameStack\n",
        "To make the game playable from a single observation (note the direction of the ball), we stack 4 consecutive frames:"
      ]
    },
    {
      "cell_type": "code",
      "execution_count": 18,
      "metadata": {
        "id": "-9z-ZqvAargh",
        "colab": {
          "base_uri": "https://localhost:8080/",
          "height": 319
        },
        "outputId": "5c0b3575-d5e8-42ec-f09a-2e0c460fbd05"
      },
      "outputs": [
        {
          "output_type": "stream",
          "name": "stdout",
          "text": [
            "Shape: (4, 84, 84), dtype: uint8, Python object type: <class 'numpy.ndarray'>\n",
            "\n",
            "Frames, left to right: from older to more recent. The ball is dropping.\n"
          ]
        },
        {
          "output_type": "display_data",
          "data": {
            "text/plain": [
              "<Figure size 1200x400 with 4 Axes>"
            ],
            "image/png": "[encoded data removed]"
          },
          "metadata": {}
        }
      ],
      "source": [
        "import gymnasium.wrappers\n",
        "\n",
        "N_FRAMES_STACKED = 4\n",
        "\n",
        "def make_final_env(apply_frame_stack=True):\n",
        "    env = make_basic_env()\n",
        "    env = apply_gray_scale_wrap(env)\n",
        "    env = apply_atary_specific_wrap(env)\n",
        "    if apply_frame_stack:\n",
        "        env = gymnasium.wrappers.FrameStackObservation(env, N_FRAMES_STACKED)\n",
        "    return env\n",
        "\n",
        "\n",
        "env = make_final_env()\n",
        "\n",
        "obs, *_ = env.reset()\n",
        "print(f\"Shape: {obs.shape}, dtype: {obs.dtype}, Python object type: {type(obs)}\")\n",
        "for _ in range(N_FRAMES_STACKED - 1):\n",
        "    obs, *_ = env.step(env.action_space.sample())\n",
        "print()\n",
        "\n",
        "\n",
        "print(\"Frames, left to right: from older to more recent. The ball is dropping.\")\n",
        "_, axes = plt.subplots(figsize=(len(obs) * 3, 4), ncols=len(obs))\n",
        "for ax, frame in zip(axes, obs):\n",
        "    ax.imshow(frame)\n",
        "plt.show()"
      ]
    },
    {
      "cell_type": "markdown",
      "metadata": {
        "id": "StuQmfskargh"
      },
      "source": [
        "**That is the final version of the environment we are going to do RL on.**\n",
        "\n",
        "**Let's discuss the representation of an obsevation.**\\\n",
        "An observation is a 4-frame-stack of grayscale images with reduced resolution.\\\n",
        "Memory (RAM) is a high-demand resource in this task. That's why:\n",
        "1. We use the uint8 dtype instead of float32 the neural network will operate on\n",
        "2. We don't represent them as numpy.ndarrays. **LazyFrames** are used by gym.wrappers.FrameStack instead. 2 consecutive observations share 3 of 4 frames. LazyFrames make use of this fact to save memory.\n",
        "When we feed the observations to neural networks, we should remember to scale them to the \\[-1, 1\\] range. We'll implement scaling as the first layer of a neural network, but that'll be later."
      ]
    },
    {
      "cell_type": "markdown",
      "metadata": {
        "id": "VnRc9kGFargh"
      },
      "source": [
        "**The ball is dropping, but its hard to notice. Let's define a function to render more human-readable images:**"
      ]
    },
    {
      "cell_type": "code",
      "execution_count": 19,
      "metadata": {
        "id": "hC20b4G4argh",
        "colab": {
          "base_uri": "https://localhost:8080/",
          "height": 433
        },
        "outputId": "13d94f76-016e-4bbe-d95e-d1fcc4a32206"
      },
      "outputs": [
        {
          "output_type": "display_data",
          "data": {
            "text/plain": [
              "<Figure size 640x480 with 1 Axes>"
            ],
            "image/png": "[encoded data removed]"
          },
          "metadata": {}
        }
      ],
      "source": [
        "from typing import Union\n",
        "\n",
        "def merge_frame_stack_to_plot(frame_stack_obs: Union[np.ndarray, list]):\n",
        "    \"\"\"\n",
        "    A helper function to plot a frame stack as a single human-interpretable image.\n",
        "    Brighter pixels are more recent, pale pixels are older.\n",
        "    Motions goes from pale to bright.\n",
        "\n",
        "    Note! This function is designed for human vision convenience and it is NOT supposed to be used as part of\n",
        "    data preprocessing for the Reinforcement Learning agent.\n",
        "    \"\"\"\n",
        "    # Convert LazyFrames to numpy array if needed\n",
        "    if not isinstance(frame_stack_obs, np.ndarray):\n",
        "        frame_stack_obs = np.array(frame_stack_obs)\n",
        "\n",
        "    weights = np.ones(frame_stack_obs.shape[0], dtype=float)\n",
        "    weights[-1] += weights.sum()\n",
        "    weights /= weights.sum()\n",
        "    result = (weights[:, None, None] * frame_stack_obs).sum(0)\n",
        "    return result\n",
        "\n",
        "obs_joint = merge_frame_stack_to_plot(obs)\n",
        "plt.imshow(obs_joint)\n",
        "plt.show()"
      ]
    },
    {
      "cell_type": "markdown",
      "metadata": {
        "id": "kHHHlmPTargh"
      },
      "source": [
        "Hope that's better"
      ]
    },
    {
      "cell_type": "code",
      "execution_count": 20,
      "metadata": {
        "id": "n9BdXY_5argh"
      },
      "outputs": [],
      "source": [
        "N_ACTIONS = env.action_space.n\n",
        "STATE_SHAPE = env.observation_space.shape"
      ]
    },
    {
      "cell_type": "markdown",
      "metadata": {
        "id": "4iJM3IAwsoUB"
      },
      "source": [
        "**Let's see if the game is still playable after applying the wrappers.**\n",
        "At playing the EpisodicLifeEnv wrapper seems not to work but actually it does (because after when life finishes a new ball is dropped automatically - it means that FireResetEnv wrapper understands that a new episode began).\n",
        "\n",
        "**Not supported for now.**"
      ]
    },
    {
      "cell_type": "markdown",
      "metadata": {
        "id": "jhiOKsQvsoUC"
      },
      "source": [
        "## DQN as it is (10 pts)"
      ]
    },
    {
      "cell_type": "markdown",
      "metadata": {
        "id": "aspwJFiGsoUC"
      },
      "source": [
        "### Building a network\n",
        "\n",
        "We now need to build a neural network that can map images to state q-values. This network will be called on every agent's step so it better not be resnet-152 unless you have an array of GPUs. Instead, you can use strided convolutions with a small number of features to save time and memory.\n",
        "\n",
        "You can build any architecture you want, but you can find a couple of examples on diagrams below."
      ]
    },
    {
      "cell_type": "markdown",
      "metadata": {
        "id": "YbZIucfksoUC"
      },
      "source": [
        "**Dueling network:**\\\n",
        "Paper: https://arxiv.org/pdf/1511.06581.pdf\n",
        "$$Q_{\\theta}(s, a) = V_{\\eta}(f_{\\xi}(s)) + A_{\\psi}(f_{\\xi}(s), a) - \\frac{\\sum_{a'}A_{\\psi}(f_{\\xi}(s), a')}{N_{actions}},$$\n",
        "where $\\xi$, $\\eta$, and $\\psi$ are, respectively, the parameters of the\n",
        "shared encoder $f_ξ$ , of the value stream $V_\\eta$ , and of the advantage stream $A_\\psi$; and $\\theta = \\{\\xi, \\eta, \\psi\\}$ is their concatenation.\n",
        "\n",
        "This is what it looks like:\n",
        "\n",
        "Simple, expects height=width=64\n",
        "\n",
        "<img src=\"https://github.com/girafe-ai/ml-course/blob/24s_advanced/assignments/lab05_dqn/img/dueling_basic.png?raw=1\" alt=\"dueling_basic\" width=\"500\"/>\n",
        "\n",
        "Nature DQN ([2]), expects height=width=84\n",
        "\n",
        "<img src=\"https://github.com/girafe-ai/ml-course/blob/24s_advanced/assignments/lab05_dqn/img/dueling_nature.png?raw=1\" alt=\"dueling_nature\" width=\"500\"/>"
      ]
    },
    {
      "cell_type": "code",
      "execution_count": 21,
      "metadata": {
        "id": "SPPmY6wIsoUC",
        "colab": {
          "base_uri": "https://localhost:8080/"
        },
        "outputId": "32fe1103-1248-4b22-f7f4-70bf7f12c344"
      },
      "outputs": [
        {
          "output_type": "execute_result",
          "data": {
            "text/plain": [
              "device(type='cpu')"
            ]
          },
          "metadata": {},
          "execution_count": 21
        }
      ],
      "source": [
        "import torch\n",
        "import torch.nn as nn\n",
        "device = torch.device('cuda' if torch.cuda.is_available() else 'cpu')\n",
        "device"
      ]
    },
    {
      "cell_type": "markdown",
      "metadata": {
        "id": "djG67OG3argi"
      },
      "source": [
        "These constants will be useful"
      ]
    },
    {
      "cell_type": "code",
      "execution_count": 22,
      "metadata": {
        "id": "n_xcBaORargi",
        "colab": {
          "base_uri": "https://localhost:8080/"
        },
        "outputId": "9736f63f-3e96-4b6b-8544-ec5ce6fc0654"
      },
      "outputs": [
        {
          "output_type": "execute_result",
          "data": {
            "text/plain": [
              "(np.int64(4), 4)"
            ]
          },
          "metadata": {},
          "execution_count": 22
        }
      ],
      "source": [
        "N_ACTIONS, N_FRAMES_STACKED"
      ]
    },
    {
      "cell_type": "code",
      "execution_count": 23,
      "metadata": {
        "id": "Le3YivEcargi"
      },
      "outputs": [],
      "source": [
        "class ConvBackbone(nn.Sequential):\n",
        "    def __init__(self, c_in: int = N_FRAMES_STACKED) -> None:\n",
        "        super().__init__(\n",
        "            nn.Conv2d(c_in, 32, kernel_size=8, stride=4),\n",
        "            nn.ReLU(),\n",
        "            nn.Conv2d(32, 64, kernel_size=4, stride=2),\n",
        "            nn.ReLU(),\n",
        "            nn.Conv2d(64, 64, kernel_size=3, stride=1),\n",
        "            nn.ReLU(),\n",
        "            nn.Flatten(),\n",
        "        )\n",
        "\n",
        "class DuelingDqnHead(nn.Module):\n",
        "    def __init__(self, n_actions, inp_size=64*7*7, hidden_size=512) -> None:\n",
        "        super().__init__()\n",
        "        self.adv_stream = nn.Sequential(\n",
        "            nn.Linear(inp_size, hidden_size),\n",
        "            nn.ReLU(),\n",
        "            nn.Linear(hidden_size, n_actions)\n",
        "        )\n",
        "        self.value_stream = nn.Sequential(\n",
        "            nn.Linear(inp_size, hidden_size),\n",
        "            nn.ReLU(),\n",
        "            nn.Linear(hidden_size, 1)\n",
        "        )\n",
        "\n",
        "    def forward(self, x: torch.Tensor) -> torch.Tensor:\n",
        "        assert x.ndim == 2\n",
        "        advantages = self.adv_stream(x)\n",
        "        values = self.value_stream(x)\n",
        "        qvalues = values + (advantages - advantages.mean(dim=1, keepdim=True))\n",
        "        return qvalues"
      ]
    },
    {
      "cell_type": "markdown",
      "metadata": {
        "id": "DXyunVwmargi"
      },
      "source": [
        "Let's make a simple test for the network architecture:"
      ]
    },
    {
      "cell_type": "code",
      "execution_count": 24,
      "metadata": {
        "id": "yCCsiDnxargi",
        "colab": {
          "base_uri": "https://localhost:8080/"
        },
        "outputId": "3e547da3-3ecf-4a47-dda9-76eda5a67de2"
      },
      "outputs": [
        {
          "output_type": "stream",
          "name": "stdout",
          "text": [
            "Test passed!\n"
          ]
        }
      ],
      "source": [
        "@torch.no_grad()\n",
        "def test_network_part_shapes(backbone, head):\n",
        "    batch_size = 3\n",
        "    env = make_final_env()\n",
        "    s, _ = env.reset()\n",
        "    inp = torch.rand(batch_size, *s.shape)\n",
        "\n",
        "    features = backbone(inp)\n",
        "    qvalues = head(features)\n",
        "\n",
        "    assert features.ndim == 2, features.shape\n",
        "    assert features.shape[0] == batch_size, features.shape\n",
        "\n",
        "    assert qvalues.ndim == 2, qvalues.shape\n",
        "    assert qvalues.shape[0] == batch_size, qvalues.shape\n",
        "    assert qvalues.shape[1] == N_ACTIONS, qvalues.shape\n",
        "\n",
        "    print(\"Test passed!\")\n",
        "\n",
        "test_network_part_shapes(\n",
        "    backbone=ConvBackbone(N_FRAMES_STACKED),\n",
        "    head=DuelingDqnHead(N_ACTIONS),\n",
        ")"
      ]
    },
    {
      "cell_type": "markdown",
      "metadata": {
        "id": "O8VrPBAlargj"
      },
      "source": [
        "**Now let's build a full model.**"
      ]
    },
    {
      "cell_type": "code",
      "execution_count": 25,
      "metadata": {
        "id": "eZL2Ivwgargj"
      },
      "outputs": [],
      "source": [
        "MAX_UINT_8 = 2 ** 8 - 1\n",
        "\n",
        "\n",
        "class InputScaler(nn.Module):\n",
        "    def __init__(self, mult=1 / MAX_UINT_8):\n",
        "        super().__init__()\n",
        "        self.mult = mult\n",
        "\n",
        "    def forward(self, x: torch.Tensor) -> torch.Tensor:\n",
        "        return x * self.mult\n",
        "\n",
        "\n",
        "class GradScalerFunctional(torch.autograd.Function):\n",
        "    \"\"\"\n",
        "    A torch.autograd.Function works as Identity on forward pass\n",
        "    and scales the gradient by scale_factor on backward pass.\n",
        "    \"\"\"\n",
        "    @staticmethod\n",
        "    def forward(ctx, input, scale_factor):\n",
        "        ctx.scale_factor = scale_factor\n",
        "        return input\n",
        "\n",
        "    @staticmethod\n",
        "    def backward(ctx, grad_output):\n",
        "        scale_factor = ctx.scale_factor\n",
        "        grad_input = grad_output * scale_factor\n",
        "        return grad_input, None\n",
        "\n",
        "\n",
        "class GradScaler(nn.Module):\n",
        "    \"\"\"\n",
        "    An nn.Module incapsulating GradScalerFunctional\n",
        "    \"\"\"\n",
        "    def __init__(self, scale_factor: float):\n",
        "        super().__init__()\n",
        "        self.scale_factor = scale_factor\n",
        "\n",
        "    def forward(self, x):\n",
        "        return GradScalerFunctional.apply(x, self.scale_factor)\n",
        "\n",
        "\n",
        "class DQNetworkDueling(nn.Sequential):\n",
        "    def __init__(self, c_in: int, n_actions: int) -> None:\n",
        "        input_scaler = InputScaler()  # the inputs come from the uint8 range\n",
        "        backbone = ConvBackbone(c_in=c_in)  # your code\n",
        "        grad_scaler = GradScaler(1 / 2**0.5)  # Dueling DQN suggests do scale the gradient by 1 / sqrt(2)\n",
        "        head = DuelingDqnHead(n_actions=n_actions)\n",
        "        super().__init__(input_scaler, backbone, grad_scaler, head)"
      ]
    },
    {
      "cell_type": "code",
      "execution_count": 26,
      "metadata": {
        "id": "i_cyfOckargj",
        "colab": {
          "base_uri": "https://localhost:8080/"
        },
        "outputId": "17275680-9a4e-4240-cb4b-bb2b223f5839"
      },
      "outputs": [
        {
          "output_type": "stream",
          "name": "stdout",
          "text": [
            "Test passed!\n"
          ]
        }
      ],
      "source": [
        "@torch.no_grad()\n",
        "def test_network_shapes(model):\n",
        "    batch_size = 3\n",
        "    env = make_final_env()\n",
        "    s, _ = env.reset()\n",
        "    inp = torch.rand(batch_size, *s.shape)\n",
        "\n",
        "    qvalues = model(inp)\n",
        "\n",
        "    assert qvalues.ndim == 2, qvalues.shape\n",
        "    assert qvalues.shape[0] == batch_size, qvalues.shape\n",
        "    assert qvalues.shape[1] == N_ACTIONS, qvalues.shape\n",
        "\n",
        "    print(\"Test passed!\")\n",
        "\n",
        "test_network_shapes(model=DQNetworkDueling(N_FRAMES_STACKED, N_ACTIONS))"
      ]
    },
    {
      "cell_type": "markdown",
      "metadata": {
        "id": "guBBGmDwargj"
      },
      "source": [
        "**Now let's wrap our model into an Agent class.**  \n",
        "It will implement epsilon-greedy policy on numpy ndarrays."
      ]
    },
    {
      "cell_type": "code",
      "execution_count": 27,
      "metadata": {
        "id": "Q0lZaISKargj"
      },
      "outputs": [],
      "source": [
        "class DQNAgent(nn.Module):\n",
        "    def __init__(self, q_network: nn.Module, epsilon=1) -> None:\n",
        "        super().__init__()\n",
        "        self.epsilon = epsilon\n",
        "        self.q_network = q_network\n",
        "\n",
        "    def forward(self, state_t):\n",
        "        qvalues = self.q_network(state_t)\n",
        "        return qvalues\n",
        "\n",
        "    @torch.no_grad()\n",
        "    def get_qvalues(self, states: np.ndarray) -> np.ndarray:\n",
        "        model_device = next(self.parameters()).device\n",
        "        states_pt = torch.tensor(np.array(states), device=model_device, dtype=torch.float32)\n",
        "        qvalues_pt = self.forward(states_pt)\n",
        "        qvalues = qvalues_pt.data.cpu().numpy()\n",
        "        return qvalues\n",
        "\n",
        "    def sample_actions_by_qvalues(self, qvalues: np.ndarray, greedy: bool = False) -> np.ndarray:\n",
        "        batch_size, n_actions = qvalues.shape\n",
        "        greedy_actions = qvalues.argmax(axis=-1)\n",
        "        if greedy:\n",
        "            return greedy_actions\n",
        "\n",
        "        random_actions = np.random.randint(0, n_actions, size=batch_size)\n",
        "        should_explore = np.random.binomial(1, self.epsilon, size=batch_size)\n",
        "        epsilon_greedy_actions = np.where(should_explore, random_actions, greedy_actions)\n",
        "        return epsilon_greedy_actions\n",
        "\n",
        "    def sample_actions(self, states: np.ndarray) -> np.ndarray:\n",
        "        qvalues = self.get_qvalues(states)\n",
        "        actions = self.sample_actions_by_qvalues(qvalues)\n",
        "        return actions"
      ]
    },
    {
      "cell_type": "code",
      "execution_count": 28,
      "metadata": {
        "id": "3s9EK117argj",
        "colab": {
          "base_uri": "https://localhost:8080/"
        },
        "outputId": "0cc6dfff-2559-4b82-9d9c-d40f713e2835"
      },
      "outputs": [
        {
          "output_type": "stream",
          "name": "stdout",
          "text": [
            "Test passed!\n"
          ]
        }
      ],
      "source": [
        "test_network_shapes(\n",
        "    model=DQNAgent(DQNetworkDueling(N_FRAMES_STACKED, N_ACTIONS))\n",
        ")"
      ]
    },
    {
      "cell_type": "code",
      "execution_count": 29,
      "metadata": {
        "id": "BUFMLKX1soUC"
      },
      "outputs": [],
      "source": [
        "agent = DQNAgent(\n",
        "    DQNetworkDueling(N_FRAMES_STACKED, N_ACTIONS),\n",
        "    epsilon=0.5\n",
        ").to(device)"
      ]
    },
    {
      "cell_type": "markdown",
      "metadata": {
        "id": "XbsIT2EdsoUC"
      },
      "source": [
        "Now let's try out our agent to see if it raises any errors."
      ]
    },
    {
      "cell_type": "code",
      "execution_count": 30,
      "metadata": {
        "id": "pZR3qE2esoUC"
      },
      "outputs": [],
      "source": [
        "def evaluate(env, agent, n_games=1, greedy=False, t_max=10000, seed=None):\n",
        "    \"\"\" Plays n_games full games. If greedy, picks actions as argmax(qvalues). Returns mean reward. \"\"\"\n",
        "    rewards = []\n",
        "    for _ in range(n_games):\n",
        "        s, _ = env.reset(seed=seed)\n",
        "        reward = 0\n",
        "        for _ in range(t_max):\n",
        "            if greedy:\n",
        "                # Для жадного режима используем epsilon=0\n",
        "                action = agent.sample_actions(np.array(s)[None], epsilon=0)[0]\n",
        "            else:\n",
        "                # Для нежадного режима используем текущий epsilon агента\n",
        "                action = agent.sample_actions(np.array(s)[None])[0]\n",
        "\n",
        "            s, r, terminated, truncated, _ = env.step(action)\n",
        "            reward += r\n",
        "            if terminated or truncated:\n",
        "                break\n",
        "\n",
        "        rewards.append(reward)\n",
        "    return np.mean(rewards)"
      ]
    },
    {
      "cell_type": "markdown",
      "metadata": {
        "id": "2BiRixA-soUC"
      },
      "source": [
        "### Experience replay\n",
        "For this assignment, we provide you with experience replay buffer.\n",
        "\n",
        "<img src=\"https://github.com/girafe-ai/ml-course/blob/24s_advanced/assignments/lab05_dqn/img/exp_replay.png?raw=1\" alt=\"exp_replay\" width=\"500\"/>\n",
        "<!-- ![img](https://github.com/yandexdataschool/Practical_RL/raw/master/yet_another_week/_resource/exp_replay.png) -->"
      ]
    },
    {
      "cell_type": "markdown",
      "metadata": {
        "id": "jTBZo5BVsoUC"
      },
      "source": [
        "#### The interface is fairly simple:\n",
        "* `exp_replay.add(obs, act, rw, next_obs, done)` - saves (s,a,r,s',done) tuple into the buffer\n",
        "* `exp_replay.sample(batch_size)` - returns observations, actions, rewards, next_observations and is_done for `batch_size` random samples.\n",
        "* `len(exp_replay)` - returns number of elements stored in replay buffer."
      ]
    },
    {
      "cell_type": "code",
      "execution_count": 31,
      "metadata": {
        "id": "Ydi0KK9LsoUC"
      },
      "outputs": [],
      "source": [
        "from replay_buffer import ReplayBuffer\n",
        "import numpy as np\n",
        "\n",
        "# Создаем буфер с размером 10\n",
        "exp_replay = ReplayBuffer(10)\n",
        "\n",
        "# Заполняем буфер\n",
        "for _ in range(30):\n",
        "    obs = env.reset()[0]\n",
        "    action = env.action_space.sample()\n",
        "    next_obs, reward, terminated, truncated, _ = env.step(action)\n",
        "    exp_replay.add(obs, action, reward, next_obs, done=terminated or truncated)\n",
        "    #exp_replay.add(obs, np.asarray(action), reward, next_obs, done=terminated or truncated)\n",
        "\n",
        "\n",
        "\n",
        "# Получаем батч\n",
        "obs_batch, act_batch, reward_batch, next_obs_batch, is_done_batch = exp_replay.sample(5)\n",
        "\n",
        "# Проверка размера буфера\n",
        "assert len(exp_replay) == 10, \"experience replay size should be 10 because that's what maximum capacity is\""
      ]
    },
    {
      "cell_type": "markdown",
      "metadata": {
        "id": "B70ylPeZargk"
      },
      "source": [
        "**The `play_and_record` function, defined below is the main way the agent will interact with the environment during training.**\n",
        "\n",
        "Previously we used to train RL algorithms on entire episodes.  \n",
        "\n",
        "This time we keep the environment constantly running and will be getting small portions of interactions with it.\n",
        "\n",
        "The agent takes several actions (4 actions in [2] and [3]), the corresponding (s, a, r, s', terminated) tuples are put into the replay buffer.  \n",
        "Whenever an episode finishes (i.e. `truncated or terminated`), the environment is reset and the procedure continues as usually.  \n",
        "\n",
        "To make the first step in a constantly running environment, the agent needs to know the state of the environment. This is the meaning of the `initial_state` argument of the function.\n",
        "\n",
        "It's worth noting, the agent does not train on the fresh tuples immediately. The agent trains on samples which are sampled from the buffer.\n",
        "\n",
        "**Implementation note:**\n",
        "We define an `ActionSampler` protocol. The goal of it is to let the function `play_and_record` accept not only `DQNAgent` class instances, but any object that can sample actions."
      ]
    },
    {
      "cell_type": "code",
      "source": [
        "!pip install --upgrade gymnasium"
      ],
      "metadata": {
        "colab": {
          "base_uri": "https://localhost:8080/"
        },
        "id": "3bhkxPwxfn2-",
        "outputId": "9a0b018e-f95a-4c6b-f170-e7011b49008a"
      },
      "execution_count": 32,
      "outputs": [
        {
          "output_type": "stream",
          "name": "stdout",
          "text": [
            "Requirement already satisfied: gymnasium in /usr/local/lib/python3.11/dist-packages (1.1.1)\n",
            "Requirement already satisfied: numpy>=1.21.0 in /usr/local/lib/python3.11/dist-packages (from gymnasium) (2.0.2)\n",
            "Requirement already satisfied: cloudpickle>=1.2.0 in /usr/local/lib/python3.11/dist-packages (from gymnasium) (3.1.1)\n",
            "Requirement already satisfied: typing-extensions>=4.3.0 in /usr/local/lib/python3.11/dist-packages (from gymnasium) (4.13.2)\n",
            "Requirement already satisfied: farama-notifications>=0.0.1 in /usr/local/lib/python3.11/dist-packages (from gymnasium) (0.0.4)\n"
          ]
        }
      ]
    },
    {
      "cell_type": "code",
      "execution_count": 33,
      "metadata": {
        "id": "cEXv69KWsoUC"
      },
      "outputs": [],
      "source": [
        "from typing import Protocol\n",
        "\n",
        "class ActionSampler(Protocol):\n",
        "    \"\"\"\n",
        "    A protocol which defines an Callable which samples actions from states\n",
        "    \"\"\"\n",
        "    def __call__(self, state: gym.wrappers.FrameStackObservation) -> int: ...\n",
        "\n",
        "\n",
        "class RandomActionSampler:\n",
        "    \"\"\"\n",
        "    We will need this guy to fill the buffer with initial 50-200K observations from a random policy.\n",
        "    \"\"\"\n",
        "\n",
        "    def __init__(self, action_space) -> None:\n",
        "        self.action_space = action_space\n",
        "\n",
        "    def __call__(self, state: gym.wrappers.FrameStackObservation) -> int:\n",
        "        action = self.action_space.sample()\n",
        "        return action\n",
        "\n",
        "\n",
        "class DqnActionSampler:\n",
        "    \"\"\"\n",
        "    DQNAgent works on batched np.ndarray inputs.\n",
        "    This class uses a DQNAgent to sample actions from single LazyFrames observations.\n",
        "\n",
        "    This will be an epsilon-greedy sampler.\n",
        "    A greedy sampler can be defined as well, but we won't need it.\n",
        "    \"\"\"\n",
        "    def __init__(self, agent):\n",
        "        self.agent = agent\n",
        "\n",
        "    def __call__(self, state: gym.wrappers.FrameStackObservation) -> int:\n",
        "        state_batched = np.array(state)[None]\n",
        "\n",
        "\n",
        "        with torch.no_grad():\n",
        "            state_tensor = torch.tensor(state_batched, dtype=torch.float32).to(device)\n",
        "            qvalues = self.agent(state_tensor).cpu().numpy()\n",
        "\n",
        "        action_batched = self.agent.sample_actions_by_qvalues(qvalues)\n",
        "        action = action_batched.item()\n",
        "        return action\n",
        "\n",
        "@torch.no_grad()\n",
        "def play_and_record(initial_state, action_sampler, env, exp_replay, n_steps=1):\n",
        "    s = initial_state\n",
        "    sum_rewards = 0\n",
        "\n",
        "    for _ in range(n_steps):\n",
        "        a = action_sampler(s)\n",
        "        next_s, r, terminated, truncated, _ = env.step(a)\n",
        "        done = terminated or truncated\n",
        "        exp_replay.add(np.array(s), a, r, np.array(next_s), done)\n",
        "        sum_rewards += r\n",
        "        s = next_s\n",
        "\n",
        "        if done:\n",
        "            s, _ = env.reset()\n",
        "\n",
        "    return sum_rewards, s"
      ]
    },
    {
      "cell_type": "code",
      "execution_count": 34,
      "metadata": {
        "id": "rV8zcfF5argk",
        "colab": {
          "base_uri": "https://localhost:8080/"
        },
        "outputId": "d27d4dc1-273f-41e4-bb82-84b9b39f9d2b"
      },
      "outputs": [
        {
          "output_type": "stream",
          "name": "stdout",
          "text": [
            "Random:\n",
            "Well done!\n",
            "DQN:\n",
            "Well done!\n"
          ]
        }
      ],
      "source": [
        "def test_play_and_record(action_sampler):\n",
        "    exp_replay = ReplayBuffer(10_000)\n",
        "\n",
        "    state, _ = env.reset()\n",
        "\n",
        "    # action_sampler = RandomActionSampler(env.action_space)\n",
        "    # action_sampler = DqnActionSampler(agent)\n",
        "    #play_and_record(state, action_sampler, env, exp_replay, n_steps=1000);\n",
        "    play_and_record(state, action_sampler, env, exp_replay, n_steps=1000);\n",
        "\n",
        "\n",
        "    # if you're using your own experience replay buffer, some of those tests may need correction.\n",
        "    # just make sure you know what your code does\n",
        "    assert len(exp_replay) == 1000, \\\n",
        "        \"play_and_record should have added exactly 1000 steps, \" \\\n",
        "        \"but instead added %i\" % len(exp_replay)\n",
        "    is_dones = list(zip(*exp_replay._storage))[-1]\n",
        "\n",
        "    assert 0 < np.mean(is_dones) < 0.1, \\\n",
        "        \"Please make sure you restart the game whenever it is 'done' and \" \\\n",
        "        \"record the is_done correctly into the buffer. Got %f is_done rate over \" \\\n",
        "        \"%i steps. [If you think it's your tough luck, just re-run the test]\" % (\n",
        "            np.mean(is_dones), len(exp_replay))\n",
        "\n",
        "    for _ in range(100):\n",
        "        obs_batch, act_batch, reward_batch, next_obs_batch, is_done_batch = exp_replay.sample(10)\n",
        "        assert obs_batch.shape == next_obs_batch.shape == (10,) + STATE_SHAPE\n",
        "        assert act_batch.shape == (10,), \\\n",
        "            \"actions batch should have shape (10,) but is instead %s\" % str(act_batch.shape)\n",
        "        assert reward_batch.shape == (10,), \\\n",
        "            \"rewards batch should have shape (10,) but is instead %s\" % str(reward_batch.shape)\n",
        "        assert is_done_batch.shape == (10,), \\\n",
        "            \"is_done batch should have shape (10,) but is instead %s\" % str(is_done_batch.shape)\n",
        "        assert [int(i) in (0, 1) for i in is_dones], \\\n",
        "            \"is_done should be strictly True or False\"\n",
        "        assert [0 <= a < N_ACTIONS for a in act_batch], \"actions should be within [0, n_actions)\"\n",
        "\n",
        "    print(\"Well done!\")\n",
        "\n",
        "\n",
        "print(\"Random:\")\n",
        "test_play_and_record(RandomActionSampler(env.action_space))\n",
        "print(\"DQN:\")\n",
        "test_play_and_record(DqnActionSampler(agent))"
      ]
    },
    {
      "cell_type": "markdown",
      "metadata": {
        "id": "y5zyryPOsoUF"
      },
      "source": [
        "### Target networks\n",
        "\n",
        "We also employ the so called \"target network\" - a copy of neural network weights to be used for reference Q-values:\n",
        "\n",
        "The network itself is an exact copy of agent network, but it's parameters are not trained. Instead, they are moved here from agent's actual network every so often.\n",
        "\n",
        "$$ Q_{reference}(s,a) = r + \\gamma \\cdot \\max _{a'} Q_{target}(s',a') $$\n",
        "\n",
        "![img](https://github.com/yandexdataschool/Practical_RL/raw/master/yet_another_week/_resource/target_net.png)"
      ]
    },
    {
      "cell_type": "code",
      "execution_count": 35,
      "metadata": {
        "id": "QED6ImHLargk",
        "colab": {
          "base_uri": "https://localhost:8080/"
        },
        "outputId": "27f44447-705c-4d53-df74-36e2f58aebc6"
      },
      "outputs": [
        {
          "output_type": "execute_result",
          "data": {
            "text/plain": [
              "<All keys matched successfully>"
            ]
          },
          "metadata": {},
          "execution_count": 35
        }
      ],
      "source": [
        "target_network = DQNetworkDueling(N_FRAMES_STACKED, N_ACTIONS).to(device)\n",
        "target_network.load_state_dict(agent.q_network.state_dict())"
      ]
    },
    {
      "cell_type": "markdown",
      "metadata": {
        "id": "2idY8QX0soUF"
      },
      "source": [
        "### Learning with... Q-learning\n",
        "Here we write a function similar to `agent.update` from tabular q-learning."
      ]
    },
    {
      "cell_type": "markdown",
      "metadata": {
        "id": "k46MPwwwsoUF"
      },
      "source": [
        "Compute Q-learning TD error:\n",
        "\n",
        "$$ L = { 1 \\over N} \\sum_i [ Q_{\\theta}(s,a) - Q_{reference}(s,a) ] ^2 $$\n",
        "\n",
        "With Q-reference defined as\n",
        "\n",
        "$$ Q_{reference}(s,a) = r(s,a) + \\gamma \\cdot max_{a'} Q_{target}(s', a') $$\n",
        "\n",
        "Where\n",
        "* $Q_{target}(s',a')$ denotes Q-value of next state and next action predicted by __target_network__\n",
        "* $s, a, r, s'$ are current state, action, reward and next state respectively\n",
        "* $\\gamma$ is a discount factor defined two cells above.\n",
        "\n",
        "\n",
        "__Note 1:__ there's an example input below. Feel free to experiment with it before you write the function.\n",
        "\n",
        "__Note 2:__ compute_td_loss is a major source of of bugs in this homework. We tried to cover it with tests, but if reward doesn't improve, it often helps to go through it line by line [with a rubber duck](https://rubberduckdebugging.com/).\n",
        "\n",
        "**Double DQN**\n",
        "\n",
        "$$ Q_{reference}(s,a) = r(s, a) + \\gamma \\cdot\n",
        "Q_{target}(s',argmax_{a'}Q_\\theta(s', a')) $$\n",
        "\n",
        "We will use Double DQN for training, but **we ask you to implement both** of the methods to experience the difference."
      ]
    },
    {
      "cell_type": "code",
      "execution_count": 36,
      "metadata": {
        "id": "V02HcUYasoUG"
      },
      "outputs": [],
      "source": [
        "def compute_td_loss_on_tensors(\n",
        "    states: torch.Tensor,  # (batch_size, *state_shape)\n",
        "    actions: torch.Tensor,  # (batch_size,)\n",
        "    rewards: torch.Tensor,  # (batch_size,)\n",
        "    next_states: torch.Tensor,  # (batch_size, *state_shape)\n",
        "    is_done: torch.Tensor,  # (batch_size,), torch.bool\n",
        "    agent: nn.Module,\n",
        "    target_network: nn.Module,\n",
        "    gamma: float = 0.99,\n",
        "    check_shapes=False,\n",
        "):\n",
        "    predicted_qvalues = agent(states)  # shape: [batch_size, n_actions]\n",
        "    assert is_done.dtype is torch.bool\n",
        "\n",
        "    # compute q-values for all actions in next states\n",
        "    with torch.no_grad():\n",
        "        predicted_next_qvalues_target = target_network(next_states)\n",
        "\n",
        "    # select q-values for chosen actions\n",
        "    predicted_qvalues_for_actions = predicted_qvalues[\n",
        "        range(len(actions)), actions\n",
        "    ]  # shape: [batch_size]\n",
        "\n",
        "    # compute V*(next_states) using predicted next q-values\n",
        "    next_state_values =  predicted_next_qvalues_target.max(dim=1)[0]\n",
        "\n",
        "    if check_shapes:\n",
        "        assert (\n",
        "            next_state_values.dim() == 1\n",
        "            and next_state_values.shape[0] == states.shape[0]\n",
        "        ), \"must predict one value per state\"\n",
        "        assert not next_state_values.requires_grad\n",
        "\n",
        "    # compute \"target q-values\" for loss - it's what's inside square parentheses in the above formula.\n",
        "    # at the last state use the simplified formula: Q(s,a) = r(s,a) since s' doesn't exist\n",
        "    target_qvalues_for_actions =  rewards + gamma * next_state_values * (~is_done).float()\n",
        "\n",
        "    # mean squared error loss to minimize\n",
        "    loss = torch.mean((predicted_qvalues_for_actions - target_qvalues_for_actions) ** 2)\n",
        "\n",
        "    if check_shapes:\n",
        "        assert (\n",
        "            predicted_next_qvalues_target.data.dim() == 2\n",
        "        ), \"make sure you predicted q-values for all actions in next state\"\n",
        "        assert (\n",
        "            next_state_values.data.dim() == 1\n",
        "        ), \"make sure you computed V(s') as maximum over just the actions axis and not all axes\"\n",
        "        assert (\n",
        "            target_qvalues_for_actions.data.dim() == 1\n",
        "        ), \"there's something wrong with target q-values, they must be a vector\"\n",
        "\n",
        "    return loss"
      ]
    },
    {
      "cell_type": "code",
      "source": [
        "def test_compute_td_loss_vanilla(compute_td_loss_fn):\n",
        "    batch_size = 5\n",
        "    state_shape = (4, 84, 84)\n",
        "    n_actions = 4\n",
        "\n",
        "    states = torch.rand(batch_size, *state_shape)\n",
        "    actions = torch.randint(0, n_actions, (batch_size,))\n",
        "    rewards = torch.randn(batch_size)\n",
        "    next_states = torch.rand(batch_size, *state_shape)\n",
        "    is_done = torch.zeros(batch_size, dtype=torch.bool)\n",
        "\n",
        "    class TestNet(nn.Module):\n",
        "        def forward(self, x):\n",
        "            return torch.randn(x.shape[0], n_actions)\n",
        "\n",
        "    agent = TestNet()\n",
        "    target = TestNet()\n",
        "\n",
        "    loss = compute_td_loss_fn(states, actions, rewards, next_states, is_done, agent, target)\n",
        "    assert isinstance(loss, torch.Tensor)\n",
        "    print(\"Vanilla test passed!\")\n",
        "\n",
        "def test_is_done_is_used(compute_td_loss_fn):\n",
        "    batch_size = 5\n",
        "    state_shape = (4, 84, 84)\n",
        "    n_actions = 4\n",
        "\n",
        "    states = torch.rand(batch_size, *state_shape)\n",
        "    actions = torch.randint(0, n_actions, (batch_size,))\n",
        "    rewards = torch.randn(batch_size)\n",
        "    next_states = torch.rand(batch_size, *state_shape)\n",
        "    is_done = torch.tensor([True, False, True, False, True])\n",
        "\n",
        "    class TestNet(nn.Module):\n",
        "        def forward(self, x):\n",
        "            return torch.randn(x.shape[0], n_actions)\n",
        "\n",
        "    agent = TestNet()\n",
        "    target = TestNet()\n",
        "\n",
        "    loss = compute_td_loss_fn(states, actions, rewards, next_states, is_done, agent, target)\n",
        "    assert isinstance(loss, torch.Tensor)\n",
        "    print(\"Terminal state test passed!\")\n",
        "\n",
        "\n",
        "test_compute_td_loss_vanilla(compute_td_loss_on_tensors)\n",
        "test_is_done_is_used(compute_td_loss_on_tensors)\n",
        "print(\"All tests passed successfully!\")"
      ],
      "metadata": {
        "colab": {
          "base_uri": "https://localhost:8080/"
        },
        "id": "T3_CbRU1xFlN",
        "outputId": "b7db725b-dbe3-4232-df6d-809a505b1e06"
      },
      "execution_count": 37,
      "outputs": [
        {
          "output_type": "stream",
          "name": "stdout",
          "text": [
            "Vanilla test passed!\n",
            "Terminal state test passed!\n",
            "All tests passed successfully!\n"
          ]
        }
      ]
    },
    {
      "cell_type": "code",
      "execution_count": 38,
      "metadata": {
        "id": "W5KZfiODargl",
        "colab": {
          "base_uri": "https://localhost:8080/"
        },
        "outputId": "02c61ccb-a8bf-4c02-920d-25ab4db8685d"
      },
      "outputs": [
        {
          "output_type": "stream",
          "name": "stdout",
          "text": [
            "Vanilla test passed!\n",
            "Well done!\n"
          ]
        }
      ],
      "source": [
        "#from tests.compute_td_loss import test_is_done_is_used, test_compute_td_loss_vanilla\n",
        "\n",
        "test_compute_td_loss_vanilla(compute_td_loss_on_tensors)\n",
        "print(\"Well done!\")"
      ]
    },
    {
      "cell_type": "code",
      "execution_count": 39,
      "metadata": {
        "id": "GpQSAhqGargl"
      },
      "outputs": [],
      "source": [
        "def compute_td_loss_on_tensors_double(\n",
        "    states: torch.Tensor,\n",
        "    actions: torch.Tensor,\n",
        "    rewards: torch.Tensor,\n",
        "    next_states: torch.Tensor,\n",
        "    is_done: torch.Tensor,\n",
        "    agent: nn.Module,\n",
        "    target_network: nn.Module,\n",
        "    gamma: float = 0.99,\n",
        "    check_shapes=False,\n",
        "):\n",
        "    predicted_qvalues = agent(states)\n",
        "    assert is_done.dtype is torch.bool\n",
        "\n",
        "    with torch.no_grad():\n",
        "        next_qvalues_agent = agent(next_states)\n",
        "        best_actions = next_qvalues_agent.argmax(dim=1)\n",
        "        predicted_next_qvalues_target = target_network(next_states)\n",
        "        next_state_values = predicted_next_qvalues_target[range(len(best_actions)), best_actions]\n",
        "\n",
        "    predicted_qvalues_for_actions = predicted_qvalues[range(len(actions)), actions]\n",
        "\n",
        "    target_qvalues_for_actions = rewards + gamma * next_state_values * (~is_done).float()\n",
        "\n",
        "    loss = torch.mean((predicted_qvalues_for_actions - target_qvalues_for_actions) ** 2)\n",
        "\n",
        "    if check_shapes:\n",
        "        assert predicted_next_qvalues_target.data.dim() == 2\n",
        "        assert next_state_values.data.dim() == 1\n",
        "        assert target_qvalues_for_actions.data.dim() == 1\n",
        "\n",
        "    return loss"
      ]
    },
    {
      "cell_type": "code",
      "source": [
        "\n",
        "def test_compute_td_loss_double(compute_td_loss_fn):\n",
        "    \"\"\"Test Double DQN loss computation\"\"\"\n",
        "    np.random.seed(42)\n",
        "    torch.manual_seed(42)\n",
        "\n",
        "\n",
        "    batch_size = 32\n",
        "    state_shape = (4, 84, 84)\n",
        "    n_actions = 4\n",
        "\n",
        "\n",
        "    states = torch.rand(batch_size, *state_shape)\n",
        "    actions = torch.randint(0, n_actions, (batch_size,))\n",
        "    rewards = torch.randn(batch_size)\n",
        "    next_states = torch.rand(batch_size, *state_shape)\n",
        "    is_done = torch.rand(batch_size) > 0.9\n",
        "\n",
        "\n",
        "    class TestQNetwork(nn.Module):\n",
        "        def __init__(self):\n",
        "            super().__init__()\n",
        "            self.conv = nn.Sequential(\n",
        "                nn.Conv2d(4, 16, kernel_size=3, stride=2),\n",
        "                nn.ReLU(),\n",
        "                nn.Conv2d(16, 32, kernel_size=3, stride=2),\n",
        "                nn.ReLU(),\n",
        "                nn.Flatten()\n",
        "            )\n",
        "            self.fc = nn.Linear(32*20*20, n_actions)\n",
        "\n",
        "        def forward(self, x):\n",
        "            x = self.conv(x)\n",
        "            return self.fc(x)\n",
        "\n",
        "    agent = TestQNetwork()\n",
        "    target_net = TestQNetwork()\n",
        "\n",
        "\n",
        "    loss = compute_td_loss_fn(\n",
        "        states, actions, rewards, next_states, is_done,\n",
        "        agent, target_net\n",
        "    )\n",
        "    assert isinstance(loss, torch.Tensor), \"Should return a tensor\"\n",
        "    assert loss.dim() == 0, \"Should return scalar loss\"\n",
        "\n",
        "\n",
        "    with torch.no_grad():\n",
        "\n",
        "        next_q_values_agent = agent(next_states)\n",
        "        next_actions = next_q_values_agent.argmax(dim=1)\n",
        "\n",
        "\n",
        "        next_q_values_target = target_net(next_states)\n",
        "        target_q_values = rewards + 0.99 * next_q_values_target.gather(1, next_actions.unsqueeze(1)).squeeze(1) * (~is_done).float()\n",
        "\n",
        "\n",
        "    predicted_q = agent(states).gather(1, actions.unsqueeze(1)).squeeze(1)\n",
        "    expected_loss = ((predicted_q - target_q_values.detach())**2).mean()\n",
        "\n",
        "    assert torch.allclose(loss, expected_loss, atol=1e-4), \\\n",
        "        \"Loss doesn't match expected Double DQN calculation\"\n",
        "\n",
        "    print(\"Double DQN test passed!\")\n",
        "    return True\n"
      ],
      "metadata": {
        "id": "5BAM2hJZyPvd"
      },
      "execution_count": 40,
      "outputs": []
    },
    {
      "cell_type": "code",
      "execution_count": 41,
      "metadata": {
        "id": "0p6NstVrargl",
        "colab": {
          "base_uri": "https://localhost:8080/"
        },
        "outputId": "6e2aacbd-8464-4730-99cd-cc8101356a5d"
      },
      "outputs": [
        {
          "output_type": "stream",
          "name": "stdout",
          "text": [
            "Double DQN test passed!\n",
            "Well done!\n"
          ]
        }
      ],
      "source": [
        "#from tests.compute_td_loss import test_compute_td_loss_double\n",
        "\n",
        "test_compute_td_loss_double(compute_td_loss_on_tensors_double)\n",
        "print(\"Well done!\")"
      ]
    },
    {
      "cell_type": "markdown",
      "metadata": {
        "id": "zb_wHxTlargl"
      },
      "source": [
        "**The following function works on np.ndarrays: it converts its inputs to torch.Tensors and calls the torch-tensor function**"
      ]
    },
    {
      "cell_type": "code",
      "execution_count": 42,
      "metadata": {
        "id": "dChqfSV1argl"
      },
      "outputs": [],
      "source": [
        "def compute_td_loss(\n",
        "    states,\n",
        "    actions,\n",
        "    rewards,\n",
        "    next_states,\n",
        "    is_done,\n",
        "    agent,\n",
        "    target_network,\n",
        "    gamma=0.99,\n",
        "    check_shapes=False,\n",
        "    device=None,\n",
        "    tensor_loss_evaluator=compute_td_loss_on_tensors_double,\n",
        "):\n",
        "    \"\"\"Compute td loss using torch operations only. Use the formulae above.\"\"\"\n",
        "\n",
        "    if device is None:\n",
        "        device = next(agent.parameters()).device\n",
        "    states = torch.tensor(\n",
        "        states, device=device, dtype=torch.float32\n",
        "    )  # shape: [batch_size, *state_shape]\n",
        "    actions = torch.tensor(\n",
        "        actions, device=device, dtype=torch.int64\n",
        "    )  # shape: [batch_size]\n",
        "    rewards = torch.tensor(\n",
        "        rewards, device=device, dtype=torch.float32\n",
        "    )  # shape: [batch_size]\n",
        "    # shape: [batch_size, *state_shape]\n",
        "    next_states = torch.tensor(next_states, device=device, dtype=torch.float)\n",
        "    is_done = torch.tensor(\n",
        "        is_done, device=device, dtype=torch.bool\n",
        "    )  # shape: [batch_size]\n",
        "\n",
        "    return tensor_loss_evaluator(\n",
        "        states=states,\n",
        "        actions=actions,\n",
        "        rewards=rewards,\n",
        "        next_states=next_states,\n",
        "        is_done=is_done,\n",
        "        agent=agent,\n",
        "        target_network=target_network,\n",
        "        gamma=gamma,\n",
        "        check_shapes=check_shapes,\n",
        "    )\n"
      ]
    },
    {
      "cell_type": "markdown",
      "metadata": {
        "id": "x8AvquAtsoUG"
      },
      "source": [
        "Sanity checks"
      ]
    },
    {
      "cell_type": "code",
      "execution_count": 43,
      "metadata": {
        "id": "5nRoOn30soUG"
      },
      "outputs": [],
      "source": [
        "obs_batch, act_batch, reward_batch, next_obs_batch, is_done_batch = exp_replay.sample(10)\n",
        "\n",
        "loss = compute_td_loss(obs_batch, act_batch, reward_batch, next_obs_batch, is_done_batch,\n",
        "                       agent, target_network,\n",
        "                       gamma=0.99, check_shapes=True)\n",
        "loss.backward()\n",
        "\n",
        "assert loss.requires_grad and tuple(loss.data.size()) == (), \\\n",
        "    \"you must return scalar loss - mean over batch\"\n",
        "assert np.any(next(agent.parameters()).grad.data.cpu().numpy() != 0), \\\n",
        "    \"loss must be differentiable w.r.t. network weights\"\n",
        "assert np.all(next(target_network.parameters()).grad is None), \\\n",
        "    \"target network should not have grads\""
      ]
    },
    {
      "cell_type": "markdown",
      "metadata": {
        "id": "KIplL0hSsoUG"
      },
      "source": [
        "## Main loop (3 pts)\n",
        "\n",
        "**If deadline is tonight and it has not converged:** It is ok. Send the notebook today and when it converges send it again.\n",
        "If the code is exactly the same points will not be discounted.\n",
        "\n",
        "It's time to put everything together and see if it learns anything."
      ]
    },
    {
      "cell_type": "code",
      "execution_count": 44,
      "metadata": {
        "id": "-JV-ulB-soUG"
      },
      "outputs": [],
      "source": [
        "from tqdm.auto import trange\n",
        "from IPython.display import clear_output\n",
        "import matplotlib.pyplot as plt"
      ]
    },
    {
      "cell_type": "code",
      "execution_count": 45,
      "metadata": {
        "id": "2hrfj_BUargm",
        "colab": {
          "base_uri": "https://localhost:8080/"
        },
        "outputId": "c72557be-1b3a-472b-adc2-e9f54b321821"
      },
      "outputs": [
        {
          "output_type": "execute_result",
          "data": {
            "text/plain": [
              "<torch._C.Generator at 0x7ab80ddfb670>"
            ]
          },
          "metadata": {},
          "execution_count": 45
        }
      ],
      "source": [
        "import random\n",
        "\n",
        "seed = 42\n",
        "random.seed(seed)\n",
        "np.random.seed(seed)\n",
        "torch.manual_seed(seed)"
      ]
    },
    {
      "cell_type": "code",
      "execution_count": 46,
      "metadata": {
        "id": "-eurxA-_soUG"
      },
      "outputs": [],
      "source": [
        "env = make_final_env()\n",
        "state, _ = env.reset(seed=seed)\n",
        "\n",
        "agent = DQNAgent(\n",
        "    DQNetworkDueling(N_FRAMES_STACKED, N_ACTIONS),\n",
        "    epsilon=1\n",
        ").to(device)\n",
        "target_network = DQNetworkDueling(N_FRAMES_STACKED, N_ACTIONS).to(device)\n",
        "target_network.load_state_dict(agent.q_network.state_dict())\n",
        "\n",
        "action_sampler = DqnActionSampler(agent)\n",
        "action_sampler_random = RandomActionSampler(env.action_space)"
      ]
    },
    {
      "cell_type": "markdown",
      "metadata": {
        "id": "WZg25kIasoUG"
      },
      "source": [
        "Buffer of size $10^4$ can probably pass the threshold for this assignment.\n",
        "\n",
        "Larger sizes ($10^5$ and $10^6$ are common) can show a much higher score."
      ]
    },
    {
      "cell_type": "code",
      "execution_count": 47,
      "metadata": {
        "id": "hWyMxfN4soUG",
        "scrolled": true,
        "colab": {
          "base_uri": "https://localhost:8080/",
          "height": 66,
          "referenced_widgets": [
            "53ffe79e04524d9f9c441cf4dbddf5b9",
            "17c262c0bb83495d893f5d6bd1c4f39e",
            "7c43b4a2dcee4742893dc7bcef30e64f",
            "9d5ed2a2b201473ba271de0ae8891997",
            "187e51e8c80f4349ba0c80aa10168bb9",
            "f4a3255b31fa4d7f9d55bf30dab7daed",
            "89be189b9638463487eaa2c00f08a6b1",
            "279fe8ff010542c09a0bdddeacbedf76",
            "71c838fc878f47d8830fd301a2a05301",
            "8a8cf21f4dd941e1baab9d5047f0333b",
            "d9c3944a4e874f759e4b60db53ec0f1b"
          ]
        },
        "outputId": "c89a795f-6789-459e-b4b2-ccd832853143"
      },
      "outputs": [
        {
          "output_type": "display_data",
          "data": {
            "text/plain": [
              "  0%|          | 0/2000 [00:00<?, ?it/s]"
            ],
            "application/vnd.jupyter.widget-view+json": {
              "version_major": 2,
              "version_minor": 0,
              "model_id": "53ffe79e04524d9f9c441cf4dbddf5b9"
            }
          },
          "metadata": {}
        },
        {
          "output_type": "stream",
          "name": "stdout",
          "text": [
            "200000\n"
          ]
        }
      ],
      "source": [
        "from utils import is_enough_ram\n",
        "\n",
        "REPLAY_BUFFER_SIZE = 10**6\n",
        "# INITIAL_BUFFER_FILL = 50_000  # Nature DQN Extended Data Table 1\n",
        "INITIAL_BUFFER_FILL = 200_000  # Rainbow without prioritization\n",
        "_n_steps = 100\n",
        "\n",
        "exp_replay = ReplayBuffer(REPLAY_BUFFER_SIZE)\n",
        "for i in trange(INITIAL_BUFFER_FILL // _n_steps):\n",
        "    if not is_enough_ram(min_available_gb=0.1):\n",
        "        print(\"\"\"\n",
        "            Less than 100 Mb RAM available.\n",
        "            Make sure the buffer size in not too huge.\n",
        "            Also check, maybe other processes consume RAM heavily.\n",
        "            \"\"\"\n",
        "             )\n",
        "        break\n",
        "    play_and_record(state, action_sampler_random, env, exp_replay, n_steps=_n_steps)\n",
        "    if len(exp_replay) >= INITIAL_BUFFER_FILL:\n",
        "        break\n",
        "print(len(exp_replay))"
      ]
    },
    {
      "cell_type": "code",
      "execution_count": 48,
      "metadata": {
        "id": "juVlh5lCargm",
        "colab": {
          "base_uri": "https://localhost:8080/"
        },
        "outputId": "33e8a1e5-8af6-4992-c4be-aef4c4d76635"
      },
      "outputs": [
        {
          "output_type": "execute_result",
          "data": {
            "text/plain": [
              "200000"
            ]
          },
          "metadata": {},
          "execution_count": 48
        }
      ],
      "source": [
        "len(exp_replay)"
      ]
    },
    {
      "cell_type": "code",
      "execution_count": 49,
      "metadata": {
        "id": "_ca9vbW4soUG"
      },
      "outputs": [],
      "source": [
        "update_frequency = 4  # n_steps for play_and_record; Nature DQN Extended Data Table 1 + Rainbow Table 4: Additional hyper-parameters\n",
        "batch_size = 32  # Nature DQN Extended Data Table 1 + Table 4: Additional hyper-parameters\n",
        "total_steps = 10 * 10**6  # this can be long, feel free to stop the training when the target score is reached\n",
        "decay_steps = 10**6  # Nature DQN Extended Data Table 1\n",
        "\n",
        "opt = torch.optim.Adam(agent.parameters(), lr=6.25e-05, eps=1.4e-4)  # Rainbow\n",
        "\n",
        "init_epsilon = 1  # Nature DQN\n",
        "final_epsilon = 0.1  # Nature DQN\n",
        "\n",
        "loss_freq = 100\n",
        "refresh_target_network_freq = 10_000  # Nature DQN\n",
        "eval_freq = 10_000\n",
        "\n",
        "max_grad_norm = 10  # Dueling DQN\n",
        "\n",
        "n_lives = 5"
      ]
    },
    {
      "cell_type": "code",
      "execution_count": 50,
      "metadata": {
        "id": "oJWs0q-6soUG"
      },
      "outputs": [],
      "source": [
        "step = 0"
      ]
    },
    {
      "cell_type": "code",
      "execution_count": 51,
      "metadata": {
        "id": "675-JU0hsoUG"
      },
      "outputs": [],
      "source": [
        "import time\n",
        "\n",
        "def wait_for_keyboard_interrupt():\n",
        "    try:\n",
        "        while True:\n",
        "            time.sleep(1)\n",
        "    except KeyboardInterrupt:\n",
        "        pass"
      ]
    },
    {
      "cell_type": "code",
      "execution_count": 52,
      "metadata": {
        "id": "U1EsCoIiargm"
      },
      "outputs": [],
      "source": [
        "from utils import linear_decay, is_enough_ram\n",
        "from torch.utils.tensorboard import SummaryWriter\n",
        "\n",
        "writer = SummaryWriter()"
      ]
    },
    {
      "cell_type": "code",
      "execution_count": 53,
      "metadata": {
        "id": "C8zFiFpmargm",
        "colab": {
          "base_uri": "https://localhost:8080/",
          "height": 838
        },
        "outputId": "081a4e6f-5f9a-4ae8-edc3-cc967643b508"
      },
      "outputs": [
        {
          "output_type": "display_data",
          "data": {
            "text/plain": [
              "Reusing TensorBoard on port 6006 (pid 5629), started 0:30:08 ago. (Use '!kill 5629' to kill it.)"
            ]
          },
          "metadata": {}
        },
        {
          "output_type": "display_data",
          "data": {
            "text/plain": [
              "<IPython.core.display.Javascript object>"
            ],
            "application/javascript": [
              "\n",
              "        (async () => {\n",
              "            const url = new URL(await google.colab.kernel.proxyPort(6006, {'cache': true}));\n",
              "            url.searchParams.set('tensorboardColab', 'true');\n",
              "            const iframe = document.createElement('iframe');\n",
              "            iframe.src = url;\n",
              "            iframe.setAttribute('width', '100%');\n",
              "            iframe.setAttribute('height', '800');\n",
              "            iframe.setAttribute('frameborder', 0);\n",
              "            document.body.appendChild(iframe);\n",
              "        })();\n",
              "    "
            ]
          },
          "metadata": {}
        }
      ],
      "source": [
        "%load_ext tensorboard\n",
        "%tensorboard --logdir runs"
      ]
    },
    {
      "cell_type": "markdown",
      "source": [
        "У МЕНЯ ПАМЯТИ ВСЁ ВРЕМЯ НЕ ХВАТАЕТ НА ЭТОМ ШАГЕ...![Снимок экрана 2025-05-19 234158.png](data:image/png;base64,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)"
      ],
      "metadata": {
        "id": "PKbq71b2R298"
      }
    },
    {
      "cell_type": "code",
      "execution_count": 55,
      "metadata": {
        "id": "FgQ1vK3CsoUG",
        "scrolled": true,
        "colab": {
          "base_uri": "https://localhost:8080/",
          "height": 364,
          "referenced_widgets": [
            "f797e25cfd4c4741abcc6e375b91f2c9",
            "92a6273899c1460cb9d017301953017b",
            "2d8e01e411e044b485876bb7995cc328",
            "591ee91109b6437bb564d58b2dd8ddb4",
            "f43ce5776ed74cd388516e7eccee5bc3",
            "ebf15ffbb3674d4aa297d822f2a3722a",
            "2f8bdb02d9bd43ed8fb88841f7b96cb4",
            "5970a49f01fc4fabb48cd3f11f6866a3",
            "3d6e30906060455a9e467bc37100f195",
            "997a7db172f145b393100e762034443e",
            "54052eb7ce77455a94084fcecec5bf70"
          ]
        },
        "outputId": "ef571b84-d992-466c-87b8-a968a9385028"
      },
      "outputs": [
        {
          "output_type": "display_data",
          "data": {
            "text/plain": [
              "  0%|          | 0/10000001 [00:00<?, ?it/s]"
            ],
            "application/vnd.jupyter.widget-view+json": {
              "version_major": 2,
              "version_minor": 0,
              "model_id": "f797e25cfd4c4741abcc6e375b91f2c9"
            }
          },
          "metadata": {}
        },
        {
          "output_type": "error",
          "ename": "TypeError",
          "evalue": "DQNAgent.sample_actions() got an unexpected keyword argument 'epsilon'",
          "traceback": [
            "\u001b[0;31m---------------------------------------------------------------------------\u001b[0m",
            "\u001b[0;31mTypeError\u001b[0m                                 Traceback (most recent call last)",
            "\u001b[0;32m<ipython-input-55-8179d37d08f2>\u001b[0m in \u001b[0;36m<cell line: 0>\u001b[0;34m()\u001b[0m\n\u001b[1;32m     34\u001b[0m \u001b[0;34m\u001b[0m\u001b[0m\n\u001b[1;32m     35\u001b[0m         \u001b[0;32mif\u001b[0m \u001b[0mstep\u001b[0m \u001b[0;34m%\u001b[0m \u001b[0meval_freq\u001b[0m \u001b[0;34m==\u001b[0m \u001b[0;36m0\u001b[0m\u001b[0;34m:\u001b[0m\u001b[0;34m\u001b[0m\u001b[0;34m\u001b[0m\u001b[0m\n\u001b[0;32m---> 36\u001b[0;31m             mean_reward = evaluate(\n\u001b[0m\u001b[1;32m     37\u001b[0m                 \u001b[0mmake_final_env\u001b[0m\u001b[0;34m(\u001b[0m\u001b[0;34m)\u001b[0m\u001b[0;34m,\u001b[0m \u001b[0magent\u001b[0m\u001b[0;34m,\u001b[0m \u001b[0mn_games\u001b[0m\u001b[0;34m=\u001b[0m\u001b[0;36m3\u001b[0m \u001b[0;34m*\u001b[0m \u001b[0mn_lives\u001b[0m\u001b[0;34m,\u001b[0m \u001b[0mgreedy\u001b[0m\u001b[0;34m=\u001b[0m\u001b[0;32mTrue\u001b[0m\u001b[0;34m,\u001b[0m \u001b[0mseed\u001b[0m\u001b[0;34m=\u001b[0m\u001b[0mstep\u001b[0m\u001b[0;34m\u001b[0m\u001b[0;34m\u001b[0m\u001b[0m\n\u001b[1;32m     38\u001b[0m             )\n",
            "\u001b[0;32m<ipython-input-30-f8f8304025b9>\u001b[0m in \u001b[0;36mevaluate\u001b[0;34m(env, agent, n_games, greedy, t_max, seed)\u001b[0m\n\u001b[1;32m      8\u001b[0m             \u001b[0;32mif\u001b[0m \u001b[0mgreedy\u001b[0m\u001b[0;34m:\u001b[0m\u001b[0;34m\u001b[0m\u001b[0;34m\u001b[0m\u001b[0m\n\u001b[1;32m      9\u001b[0m                 \u001b[0;31m# Для жадного режима используем epsilon=0\u001b[0m\u001b[0;34m\u001b[0m\u001b[0;34m\u001b[0m\u001b[0m\n\u001b[0;32m---> 10\u001b[0;31m                 \u001b[0maction\u001b[0m \u001b[0;34m=\u001b[0m \u001b[0magent\u001b[0m\u001b[0;34m.\u001b[0m\u001b[0msample_actions\u001b[0m\u001b[0;34m(\u001b[0m\u001b[0mnp\u001b[0m\u001b[0;34m.\u001b[0m\u001b[0marray\u001b[0m\u001b[0;34m(\u001b[0m\u001b[0ms\u001b[0m\u001b[0;34m)\u001b[0m\u001b[0;34m[\u001b[0m\u001b[0;32mNone\u001b[0m\u001b[0;34m]\u001b[0m\u001b[0;34m,\u001b[0m \u001b[0mepsilon\u001b[0m\u001b[0;34m=\u001b[0m\u001b[0;36m0\u001b[0m\u001b[0;34m)\u001b[0m\u001b[0;34m[\u001b[0m\u001b[0;36m0\u001b[0m\u001b[0;34m]\u001b[0m\u001b[0;34m\u001b[0m\u001b[0;34m\u001b[0m\u001b[0m\n\u001b[0m\u001b[1;32m     11\u001b[0m             \u001b[0;32melse\u001b[0m\u001b[0;34m:\u001b[0m\u001b[0;34m\u001b[0m\u001b[0;34m\u001b[0m\u001b[0m\n\u001b[1;32m     12\u001b[0m                 \u001b[0;31m# Для нежадного режима используем текущий epsilon агента\u001b[0m\u001b[0;34m\u001b[0m\u001b[0;34m\u001b[0m\u001b[0m\n",
            "\u001b[0;31mTypeError\u001b[0m: DQNAgent.sample_actions() got an unexpected keyword argument 'epsilon'"
          ]
        }
      ],
      "source": [
        "env = make_final_env()\n",
        "state, _ = env.reset()\n",
        "with trange(step, total_steps + 1) as progress_bar:\n",
        "    for step in progress_bar:\n",
        "        if not is_enough_ram():\n",
        "            print('less that 100 Mb RAM available, freezing')\n",
        "            print('make sure everything is ok and use KeyboardInterrupt to continue')\n",
        "            wait_for_keyboard_interrupt()\n",
        "\n",
        "        agent.epsilon = linear_decay(init_epsilon, final_epsilon, step, decay_steps)\n",
        "\n",
        "        # play\n",
        "        _, state = play_and_record(state, action_sampler, env, exp_replay, n_steps=update_frequency)\n",
        "\n",
        "        # train\n",
        "        s, a, r, s_next, done = exp_replay.sample(batch_size)\n",
        "        # <YOUR CODE: sample batch_size of data from experience replay>\n",
        "\n",
        "        loss = compute_td_loss(s, a, r, s_next, done, agent, target_network, device=device)\n",
        "\n",
        "        loss.backward()\n",
        "        grad_norm = nn.utils.clip_grad_norm_(agent.parameters(), max_grad_norm)\n",
        "        opt.step()\n",
        "        opt.zero_grad()\n",
        "\n",
        "        if step % loss_freq == 0:\n",
        "            writer.add_scalar(\"loss\", loss.data.cpu().item(), step)\n",
        "            writer.add_scalar(\"grad_norm\", grad_norm.cpu().item(), step)\n",
        "\n",
        "        if step % refresh_target_network_freq == 0:\n",
        "            # Load agent weights into target_network\n",
        "            target_network.load_state_dict(agent.q_network.state_dict())\n",
        "            torch.save(agent.state_dict(), \"last_state_dict.pt\")\n",
        "\n",
        "        if step % eval_freq == 0:\n",
        "            mean_reward = evaluate(\n",
        "                make_final_env(), agent, n_games=3 * n_lives, greedy=True, seed=step\n",
        "            )\n",
        "            writer.add_scalar(\"mean_reward_per_life\", mean_reward, step)\n",
        "\n",
        "            initial_state_q_values = agent.get_qvalues(\n",
        "                [make_final_env().reset(seed=step)[0]]\n",
        "            )\n",
        "            writer.add_scalar(\"initial_state_v\", np.max(initial_state_q_values).item(), step)\n",
        "\n",
        "            clear_output(True)\n",
        "            print(\"buffer size = %i, epsilon = %.5f\" %\n",
        "                (len(exp_replay), agent.epsilon))"
      ]
    },
    {
      "cell_type": "markdown",
      "source": [],
      "metadata": {
        "id": "3Uncb2muRuYv"
      }
    },
    {
      "cell_type": "code",
      "execution_count": null,
      "metadata": {
        "id": "XZHZMBbiargn"
      },
      "outputs": [],
      "source": [
        "agent = DQNAgent(\n",
        "    DQNetworkDueling(N_FRAMES_STACKED, N_ACTIONS),\n",
        "    epsilon=1\n",
        ").to(device)\n",
        "agent.load_state_dict(torch.load(\"last_state_dict.pt\"))"
      ]
    },
    {
      "cell_type": "markdown",
      "metadata": {
        "id": "ZEDQhQrdsoUG"
      },
      "source": [
        "Agent is evaluated for 1 life, not for a whole episode of 5 lives. Rewards in evaluation are also truncated. Cuz this is what environment the agent is learning in and in this way mean rewards per life can be compared with initial state value\n",
        "\n",
        "**The goal is to get 15 points in the real env**. So 3 or better 4 points in the preprocessed one will probably be enough. You can interrupt learning then."
      ]
    },
    {
      "cell_type": "markdown",
      "metadata": {
        "id": "s0jLjYGwsoUG"
      },
      "source": [
        "Final scoring is done on a whole episode with all 5 lives."
      ]
    },
    {
      "cell_type": "code",
      "execution_count": null,
      "metadata": {
        "id": "xTGVrwwQsoUG"
      },
      "outputs": [],
      "source": [
        "final_score = evaluate(\n",
        "  make_final_env(),\n",
        "    agent, n_games=30, greedy=True, t_max=10 * 1000, seed=9\n",
        ")\n",
        "print('final score:', final_score)\n",
        "assert final_score >= 3, 'not as cool as DQN can'\n",
        "print('Cool!')"
      ]
    },
    {
      "cell_type": "markdown",
      "metadata": {
        "id": "ovaG8N4lsoUH"
      },
      "source": [
        "## How to interpret plots:\n",
        "\n",
        "This aint no supervised learning so don't expect anything to improve monotonously.\n",
        "* **TD loss** is the MSE between agent's current Q-values and target Q-values. It may slowly increase or decrease, it's ok. The \"not ok\" behavior includes going NaN or stayng at exactly zero before agent has perfect performance.\n",
        "* **grad norm** just shows the intensivity of training. Not ok is growing to values of about 100 (or maybe even 50) though it depends on network architecture.\n",
        "* **mean reward** is the expected sum of r(s,a) agent gets over the full game session. It will oscillate, but on average it should get higher over time (after a few thousand iterations...).\n",
        " * In basic q-learning implementation it takes about 40k steps to \"warm up\" agent before it starts to get better.\n",
        "* **Initial state V** is the expected discounted reward for episode in the oppinion of the agent. It should behave more smoothly than **mean reward**. It should get higher over time but sometimes can experience drawdowns because of the agaent's overestimates.\n",
        "* **buffer size** - this one is simple. It should go up and cap at max size.\n",
        "* **epsilon** - agent's willingness to explore. If you see that agent's already at 0.01 epsilon before it's average reward is above 0 - it means you need to increase epsilon. Set it back to some 0.2 - 0.5 and decrease the pace at which it goes down.\n",
        "* Smoothing of plots is done with a gaussian kernel\n",
        "\n",
        "At first your agent will lose quickly. Then it will learn to suck less and at least hit the ball a few times before it loses. Finally it will learn to actually score points.\n",
        "\n",
        "**Training will take time.** A lot of it actually. Probably you will not see any improvment during first **150k** time steps (note that by default in this notebook agent is evaluated every 5000 time steps).\n",
        "\n",
        "But hey, long training time isn't _that_ bad:\n",
        "![img](https://github.com/yandexdataschool/Practical_RL/raw/master/yet_another_week/_resource/training.png)"
      ]
    },
    {
      "cell_type": "markdown",
      "metadata": {
        "id": "kVV72AB-soUH"
      },
      "source": [
        "## About hyperparameters:\n",
        "\n",
        "The task has something in common with supervised learning: loss is optimized through the buffer (instead of Train dataset). But the distribution of states and actions in the buffer **is not stationary** and depends on the policy it was generated by. It can even happen that the mean TD error across the buffer is very low but the performance is extremely poor (imagine the agent collecting data to the buffer always manages to avoid the ball).\n",
        "\n",
        "* Total timesteps and training time: It seems to be so huge, but actually it is normal for RL.\n",
        "\n",
        "* $\\epsilon$ decay shedule was taken from the original paper and is like traditional for epsilon-greedy policies. At the beginning of the training the agent's greedy policy is poor so many random actions should be taken.\n",
        "\n",
        "* Optimizer: In the original paper RMSProp was used (they did not have Adam in 2013) and it can work not worse than Adam. For us Adam was default and it worked.\n",
        "\n",
        "* lr: $10^{-3}$ would probably be too huge\n",
        "\n",
        "* target network update frequency: has something in common with learning rate. Too frequent updates can lead to divergence. Too rare can lead to slow leraning. For millions of total timesteps thousands of inner steps seem ok. One iteration of target network updating is an iteration of the (this time approximate) $\\gamma$-compression that stands behind Q-learning. The more inner steps it makes the more accurate is the compression."
      ]
    },
    {
      "cell_type": "markdown",
      "metadata": {
        "id": "Plp8WC_esoUH"
      },
      "source": [
        "### Video"
      ]
    },
    {
      "cell_type": "code",
      "execution_count": null,
      "metadata": {
        "id": "DdExc_AssoUH"
      },
      "outputs": [],
      "source": [
        "# record sessions\n",
        "from gymnasium.wrappers import RecordVideo\n",
        "\n",
        "with make_final_env() as env, RecordVideo(\n",
        "    env=env, video_folder=\"./videos\", episode_trigger=lambda episode_number: True\n",
        ") as env_monitor:\n",
        "    sessions = [\n",
        "        evaluate(env_monitor, agent, n_games=n_lives, greedy=True) for _ in range(10)\n",
        "    ]\n"
      ]
    },
    {
      "cell_type": "code",
      "execution_count": null,
      "metadata": {
        "id": "lt6xg1n_soUH"
      },
      "outputs": [],
      "source": [
        "# Show video. This may not work in some setups. If it doesn't\n",
        "# work for you, you can download the videos and view them locally.\n",
        "\n",
        "from pathlib import Path\n",
        "from base64 import b64encode\n",
        "from IPython.display import HTML\n",
        "\n",
        "video_paths = sorted([s for s in Path('videos').iterdir() if s.suffix == '.mp4'])\n",
        "video_path = video_paths[-1]  # You can also try other indices\n",
        "\n",
        "if 'google.colab' in sys.modules:\n",
        "    # https://stackoverflow.com/a/57378660/1214547\n",
        "    with video_path.open('rb') as fp:\n",
        "        mp4 = fp.read()\n",
        "    data_url = 'data:video/mp4;base64,' + b64encode(mp4).decode()\n",
        "else:\n",
        "    data_url = str(video_path)\n",
        "\n",
        "HTML(\"\"\"\n",
        "<video width=\"640\" height=\"480\" controls>\n",
        "  <source src=\"{}\" type=\"video/mp4\">\n",
        "</video>\n",
        "\"\"\".format(data_url))"
      ]
    },
    {
      "cell_type": "markdown",
      "metadata": {
        "id": "fLPx2aI7soUH"
      },
      "source": [
        "## Let's have a closer look at this. Interpretation (2 pts).\n",
        "\n",
        "Let's play 5 episodes (note that the game has 5 lives) and log some stats:"
      ]
    },
    {
      "cell_type": "code",
      "execution_count": null,
      "metadata": {
        "id": "djggHWvVargn"
      },
      "outputs": [],
      "source": [
        "from dqn.analysis import play_and_log_episode\n",
        "\n",
        "env = make_final_env()\n",
        "stats = play_and_log_episode(env, agent)\n",
        "\n",
        "print(\"Keys:\", list(stats.keys()))\n",
        "print(\"Shapes:\")\n",
        "for key in [\"states\", \"qvalues\", \"actions\", \"rewards\"]:\n",
        "    print(f\"{key}: {stats[key].shape}\")\n",
        "print(\"terminated:\", stats[\"episode_finished\"])"
      ]
    },
    {
      "cell_type": "markdown",
      "metadata": {
        "id": "Fth4kK9iargn"
      },
      "source": [
        "Let's plot rewards:"
      ]
    },
    {
      "cell_type": "code",
      "execution_count": null,
      "metadata": {
        "id": "R89_0C4Xargn"
      },
      "outputs": [],
      "source": [
        "plt.plot(stats[\"rewards\"])\n",
        "plt.grid()\n",
        "plt.show()"
      ]
    },
    {
      "cell_type": "markdown",
      "metadata": {
        "id": "PxucSeTTargo"
      },
      "source": [
        "Your task it to evaluate the following quantities from the logs:\n",
        "1. Discounted returns: $G[t] = \\sum_{t'=t}^T \\gamma ^ {t' - t}r[t]$, where $T$ is the total time of an episode.\n",
        "2. State Values estimated by the agent: $V_{agent}[t] = \\max_{a}Q_{agent}(s[t], a)$.\n",
        "3. Q-spread: $\\Delta Q[t] = \\max_{a}Q_{agent}(s[t], a) - \\min_{a}Q_{agent}(s[t], a)$\n",
        "\n",
        "Create a new env: `env = make_final_env()`, play for 5 episodes (a full game has 5 lives, so it will be 1 full game).  \n",
        "Plot rewards and the evaluated quantites for each of them.  \n",
        "Using the plots, can you find points where the ball hits the wall?  \n",
        "Where the ball hits the platform?  \n",
        "Probably, you won't need all the quantities for that, but it's still good to check the behavior of a model.\n",
        "\n",
        "The `merge_frame_stack_to_plot` function may be useful."
      ]
    },
    {
      "cell_type": "code",
      "execution_count": null,
      "metadata": {
        "id": "VWsfGGxSargo"
      },
      "outputs": [],
      "source": [
        "def get_discounted_returns(rewards: Reversible[float], gamma: float) -> list[float]:\n",
        "    \"\"\"\n",
        "    Calculates G[t] for each t, given rewards and gamma.\n",
        "\n",
        "    Tip: Iterate backwards through rewards and use the following relationship:\n",
        "    G[t] = r[t] + gamma * G[t + 1]\n",
        "    \"\"\"\n",
        "    returns_reverse: list[float] = []\n",
        "    last_return: float = 0\n",
        "    for r in reversed(rewards):\n",
        "        # your code\n",
        "    returns = list(reversed(returns_reverse))\n",
        "    return returns\n"
      ]
    },
    {
      "cell_type": "markdown",
      "metadata": {
        "id": "e36bU0u8soUH"
      },
      "source": [
        "## Bonus I (2 pts). Get High Score!\n",
        "\n",
        "Get mean reward per life:\n",
        "1. $\\geq 20$: +1 pt\n",
        "2. $\\geq 40$: +2 pts"
      ]
    },
    {
      "cell_type": "markdown",
      "metadata": {
        "id": "78e4nRoSsoUH"
      },
      "source": [
        "## Bonus II (2+ pts). Apply modifications to DQN.\n",
        "\n",
        "* [Prioritized experience replay](https://arxiv.org/abs/1511.05952) (2 pts, please check for effective open-source implementations)\n",
        "* [Noisy Nets](https://arxiv.org/abs/1706.10295) (2 pts, please, pay attention to the exploration policy and whether epsilon-greedy policy is used)\n",
        "* [distributional RL](https://arxiv.org/abs/1707.06887)(distributional and distributed stand for different things here) (3 pts)\n",
        "* Other modifications (2+ pts depending on complexity)"
      ]
    },
    {
      "cell_type": "markdown",
      "metadata": {
        "id": "j_3RXboysoUH"
      },
      "source": [
        "## Bonus III (2 pts). Distributed RL.\n",
        "\n",
        "https://gymnasium.farama.org/api/vector/#gymnasium.vector.AsyncVectorEnv"
      ]
    },
    {
      "cell_type": "code",
      "execution_count": null,
      "metadata": {
        "id": "f9X5aB56soUI"
      },
      "outputs": [],
      "source": []
    }
  ],
  "metadata": {
    "colab": {
      "provenance": []
    },
    "kernelspec": {
      "display_name": "Python 3",
      "name": "python3"
    },
    "language_info": {
      "codemirror_mode": {
        "name": "ipython",
        "version": 3
      },
      "file_extension": ".py",
      "mimetype": "text/x-python",
      "name": "python",
      "nbconvert_exporter": "python",
      "pygments_lexer": "ipython3",
      "version": "3.11.8"
    },
    "widgets": {
      "application/vnd.jupyter.widget-state+json": {
        "53ffe79e04524d9f9c441cf4dbddf5b9": {
          "model_module": "@jupyter-widgets/controls",
          "model_name": "HBoxModel",
          "model_module_version": "1.5.0",
          "state": {
            "_dom_classes": [],
            "_model_module": "@jupyter-widgets/controls",
            "_model_module_version": "1.5.0",
            "_model_name": "HBoxModel",
            "_view_count": null,
            "_view_module": "@jupyter-widgets/controls",
            "_view_module_version": "1.5.0",
            "_view_name": "HBoxView",
            "box_style": "",
            "children": [
              "IPY_MODEL_17c262c0bb83495d893f5d6bd1c4f39e",
              "IPY_MODEL_7c43b4a2dcee4742893dc7bcef30e64f",
              "IPY_MODEL_9d5ed2a2b201473ba271de0ae8891997"
            ],
            "layout": "IPY_MODEL_187e51e8c80f4349ba0c80aa10168bb9"
          }
        },
        "17c262c0bb83495d893f5d6bd1c4f39e": {
          "model_module": "@jupyter-widgets/controls",
          "model_name": "HTMLModel",
          "model_module_version": "1.5.0",
          "state": {
            "_dom_classes": [],
            "_model_module": "@jupyter-widgets/controls",
            "_model_module_version": "1.5.0",
            "_model_name": "HTMLModel",
            "_view_count": null,
            "_view_module": "@jupyter-widgets/controls",
            "_view_module_version": "1.5.0",
            "_view_name": "HTMLView",
            "description": "",
            "description_tooltip": null,
            "layout": "IPY_MODEL_f4a3255b31fa4d7f9d55bf30dab7daed",
            "placeholder": "​",
            "style": "IPY_MODEL_89be189b9638463487eaa2c00f08a6b1",
            "value": "100%"
          }
        },
        "7c43b4a2dcee4742893dc7bcef30e64f": {
          "model_module": "@jupyter-widgets/controls",
          "model_name": "FloatProgressModel",
          "model_module_version": "1.5.0",
          "state": {
            "_dom_classes": [],
            "_model_module": "@jupyter-widgets/controls",
            "_model_module_version": "1.5.0",
            "_model_name": "FloatProgressModel",
            "_view_count": null,
            "_view_module": "@jupyter-widgets/controls",
            "_view_module_version": "1.5.0",
            "_view_name": "ProgressView",
            "bar_style": "danger",
            "description": "",
            "description_tooltip": null,
            "layout": "IPY_MODEL_279fe8ff010542c09a0bdddeacbedf76",
            "max": 2000,
            "min": 0,
            "orientation": "horizontal",
            "style": "IPY_MODEL_71c838fc878f47d8830fd301a2a05301",
            "value": 1999
          }
        },
        "9d5ed2a2b201473ba271de0ae8891997": {
          "model_module": "@jupyter-widgets/controls",
          "model_name": "HTMLModel",
          "model_module_version": "1.5.0",
          "state": {
            "_dom_classes": [],
            "_model_module": "@jupyter-widgets/controls",
            "_model_module_version": "1.5.0",
            "_model_name": "HTMLModel",
            "_view_count": null,
            "_view_module": "@jupyter-widgets/controls",
            "_view_module_version": "1.5.0",
            "_view_name": "HTMLView",
            "description": "",
            "description_tooltip": null,
            "layout": "IPY_MODEL_8a8cf21f4dd941e1baab9d5047f0333b",
            "placeholder": "​",
            "style": "IPY_MODEL_d9c3944a4e874f759e4b60db53ec0f1b",
            "value": " 1999/2000 [04:38&lt;00:00,  5.36it/s]"
          }
        },
        "187e51e8c80f4349ba0c80aa10168bb9": {
          "model_module": "@jupyter-widgets/base",
          "model_name": "LayoutModel",
          "model_module_version": "1.2.0",
          "state": {
            "_model_module": "@jupyter-widgets/base",
            "_model_module_version": "1.2.0",
            "_model_name": "LayoutModel",
            "_view_count": null,
            "_view_module": "@jupyter-widgets/base",
            "_view_module_version": "1.2.0",
            "_view_name": "LayoutView",
            "align_content": null,
            "align_items": null,
            "align_self": null,
            "border": null,
            "bottom": null,
            "display": null,
            "flex": null,
            "flex_flow": null,
            "grid_area": null,
            "grid_auto_columns": null,
            "grid_auto_flow": null,
            "grid_auto_rows": null,
            "grid_column": null,
            "grid_gap": null,
            "grid_row": null,
            "grid_template_areas": null,
            "grid_template_columns": null,
            "grid_template_rows": null,
            "height": null,
            "justify_content": null,
            "justify_items": null,
            "left": null,
            "margin": null,
            "max_height": null,
            "max_width": null,
            "min_height": null,
            "min_width": null,
            "object_fit": null,
            "object_position": null,
            "order": null,
            "overflow": null,
            "overflow_x": null,
            "overflow_y": null,
            "padding": null,
            "right": null,
            "top": null,
            "visibility": null,
            "width": null
          }
        },
        "f4a3255b31fa4d7f9d55bf30dab7daed": {
          "model_module": "@jupyter-widgets/base",
          "model_name": "LayoutModel",
          "model_module_version": "1.2.0",
          "state": {
            "_model_module": "@jupyter-widgets/base",
            "_model_module_version": "1.2.0",
            "_model_name": "LayoutModel",
            "_view_count": null,
            "_view_module": "@jupyter-widgets/base",
            "_view_module_version": "1.2.0",
            "_view_name": "LayoutView",
            "align_content": null,
            "align_items": null,
            "align_self": null,
            "border": null,
            "bottom": null,
            "display": null,
            "flex": null,
            "flex_flow": null,
            "grid_area": null,
            "grid_auto_columns": null,
            "grid_auto_flow": null,
            "grid_auto_rows": null,
            "grid_column": null,
            "grid_gap": null,
            "grid_row": null,
            "grid_template_areas": null,
            "grid_template_columns": null,
            "grid_template_rows": null,
            "height": null,
            "justify_content": null,
            "justify_items": null,
            "left": null,
            "margin": null,
            "max_height": null,
            "max_width": null,
            "min_height": null,
            "min_width": null,
            "object_fit": null,
            "object_position": null,
            "order": null,
            "overflow": null,
            "overflow_x": null,
            "overflow_y": null,
            "padding": null,
            "right": null,
            "top": null,
            "visibility": null,
            "width": null
          }
        },
        "89be189b9638463487eaa2c00f08a6b1": {
          "model_module": "@jupyter-widgets/controls",
          "model_name": "DescriptionStyleModel",
          "model_module_version": "1.5.0",
          "state": {
            "_model_module": "@jupyter-widgets/controls",
            "_model_module_version": "1.5.0",
            "_model_name": "DescriptionStyleModel",
            "_view_count": null,
            "_view_module": "@jupyter-widgets/base",
            "_view_module_version": "1.2.0",
            "_view_name": "StyleView",
            "description_width": ""
          }
        },
        "279fe8ff010542c09a0bdddeacbedf76": {
          "model_module": "@jupyter-widgets/base",
          "model_name": "LayoutModel",
          "model_module_version": "1.2.0",
          "state": {
            "_model_module": "@jupyter-widgets/base",
            "_model_module_version": "1.2.0",
            "_model_name": "LayoutModel",
            "_view_count": null,
            "_view_module": "@jupyter-widgets/base",
            "_view_module_version": "1.2.0",
            "_view_name": "LayoutView",
            "align_content": null,
            "align_items": null,
            "align_self": null,
            "border": null,
            "bottom": null,
            "display": null,
            "flex": null,
            "flex_flow": null,
            "grid_area": null,
            "grid_auto_columns": null,
            "grid_auto_flow": null,
            "grid_auto_rows": null,
            "grid_column": null,
            "grid_gap": null,
            "grid_row": null,
            "grid_template_areas": null,
            "grid_template_columns": null,
            "grid_template_rows": null,
            "height": null,
            "justify_content": null,
            "justify_items": null,
            "left": null,
            "margin": null,
            "max_height": null,
            "max_width": null,
            "min_height": null,
            "min_width": null,
            "object_fit": null,
            "object_position": null,
            "order": null,
            "overflow": null,
            "overflow_x": null,
            "overflow_y": null,
            "padding": null,
            "right": null,
            "top": null,
            "visibility": null,
            "width": null
          }
        },
        "71c838fc878f47d8830fd301a2a05301": {
          "model_module": "@jupyter-widgets/controls",
          "model_name": "ProgressStyleModel",
          "model_module_version": "1.5.0",
          "state": {
            "_model_module": "@jupyter-widgets/controls",
            "_model_module_version": "1.5.0",
            "_model_name": "ProgressStyleModel",
            "_view_count": null,
            "_view_module": "@jupyter-widgets/base",
            "_view_module_version": "1.2.0",
            "_view_name": "StyleView",
            "bar_color": null,
            "description_width": ""
          }
        },
        "8a8cf21f4dd941e1baab9d5047f0333b": {
          "model_module": "@jupyter-widgets/base",
          "model_name": "LayoutModel",
          "model_module_version": "1.2.0",
          "state": {
            "_model_module": "@jupyter-widgets/base",
            "_model_module_version": "1.2.0",
            "_model_name": "LayoutModel",
            "_view_count": null,
            "_view_module": "@jupyter-widgets/base",
            "_view_module_version": "1.2.0",
            "_view_name": "LayoutView",
            "align_content": null,
            "align_items": null,
            "align_self": null,
            "border": null,
            "bottom": null,
            "display": null,
            "flex": null,
            "flex_flow": null,
            "grid_area": null,
            "grid_auto_columns": null,
            "grid_auto_flow": null,
            "grid_auto_rows": null,
            "grid_column": null,
            "grid_gap": null,
            "grid_row": null,
            "grid_template_areas": null,
            "grid_template_columns": null,
            "grid_template_rows": null,
            "height": null,
            "justify_content": null,
            "justify_items": null,
            "left": null,
            "margin": null,
            "max_height": null,
            "max_width": null,
            "min_height": null,
            "min_width": null,
            "object_fit": null,
            "object_position": null,
            "order": null,
            "overflow": null,
            "overflow_x": null,
            "overflow_y": null,
            "padding": null,
            "right": null,
            "top": null,
            "visibility": null,
            "width": null
          }
        },
        "d9c3944a4e874f759e4b60db53ec0f1b": {
          "model_module": "@jupyter-widgets/controls",
          "model_name": "DescriptionStyleModel",
          "model_module_version": "1.5.0",
          "state": {
            "_model_module": "@jupyter-widgets/controls",
            "_model_module_version": "1.5.0",
            "_model_name": "DescriptionStyleModel",
            "_view_count": null,
            "_view_module": "@jupyter-widgets/base",
            "_view_module_version": "1.2.0",
            "_view_name": "StyleView",
            "description_width": ""
          }
        },
        "f797e25cfd4c4741abcc6e375b91f2c9": {
          "model_module": "@jupyter-widgets/controls",
          "model_name": "HBoxModel",
          "model_module_version": "1.5.0",
          "state": {
            "_dom_classes": [],
            "_model_module": "@jupyter-widgets/controls",
            "_model_module_version": "1.5.0",
            "_model_name": "HBoxModel",
            "_view_count": null,
            "_view_module": "@jupyter-widgets/controls",
            "_view_module_version": "1.5.0",
            "_view_name": "HBoxView",
            "box_style": "",
            "children": [
              "IPY_MODEL_92a6273899c1460cb9d017301953017b",
              "IPY_MODEL_2d8e01e411e044b485876bb7995cc328",
              "IPY_MODEL_591ee91109b6437bb564d58b2dd8ddb4"
            ],
            "layout": "IPY_MODEL_f43ce5776ed74cd388516e7eccee5bc3"
          }
        },
        "92a6273899c1460cb9d017301953017b": {
          "model_module": "@jupyter-widgets/controls",
          "model_name": "HTMLModel",
          "model_module_version": "1.5.0",
          "state": {
            "_dom_classes": [],
            "_model_module": "@jupyter-widgets/controls",
            "_model_module_version": "1.5.0",
            "_model_name": "HTMLModel",
            "_view_count": null,
            "_view_module": "@jupyter-widgets/controls",
            "_view_module_version": "1.5.0",
            "_view_name": "HTMLView",
            "description": "",
            "description_tooltip": null,
            "layout": "IPY_MODEL_ebf15ffbb3674d4aa297d822f2a3722a",
            "placeholder": "​",
            "style": "IPY_MODEL_2f8bdb02d9bd43ed8fb88841f7b96cb4",
            "value": "  0%"
          }
        },
        "2d8e01e411e044b485876bb7995cc328": {
          "model_module": "@jupyter-widgets/controls",
          "model_name": "FloatProgressModel",
          "model_module_version": "1.5.0",
          "state": {
            "_dom_classes": [],
            "_model_module": "@jupyter-widgets/controls",
            "_model_module_version": "1.5.0",
            "_model_name": "FloatProgressModel",
            "_view_count": null,
            "_view_module": "@jupyter-widgets/controls",
            "_view_module_version": "1.5.0",
            "_view_name": "ProgressView",
            "bar_style": "danger",
            "description": "",
            "description_tooltip": null,
            "layout": "IPY_MODEL_5970a49f01fc4fabb48cd3f11f6866a3",
            "max": 10000001,
            "min": 0,
            "orientation": "horizontal",
            "style": "IPY_MODEL_3d6e30906060455a9e467bc37100f195",
            "value": 0
          }
        },
        "591ee91109b6437bb564d58b2dd8ddb4": {
          "model_module": "@jupyter-widgets/controls",
          "model_name": "HTMLModel",
          "model_module_version": "1.5.0",
          "state": {
            "_dom_classes": [],
            "_model_module": "@jupyter-widgets/controls",
            "_model_module_version": "1.5.0",
            "_model_name": "HTMLModel",
            "_view_count": null,
            "_view_module": "@jupyter-widgets/controls",
            "_view_module_version": "1.5.0",
            "_view_name": "HTMLView",
            "description": "",
            "description_tooltip": null,
            "layout": "IPY_MODEL_997a7db172f145b393100e762034443e",
            "placeholder": "​",
            "style": "IPY_MODEL_54052eb7ce77455a94084fcecec5bf70",
            "value": " 0/10000001 [00:02&lt;?, ?it/s]"
          }
        },
        "f43ce5776ed74cd388516e7eccee5bc3": {
          "model_module": "@jupyter-widgets/base",
          "model_name": "LayoutModel",
          "model_module_version": "1.2.0",
          "state": {
            "_model_module": "@jupyter-widgets/base",
            "_model_module_version": "1.2.0",
            "_model_name": "LayoutModel",
            "_view_count": null,
            "_view_module": "@jupyter-widgets/base",
            "_view_module_version": "1.2.0",
            "_view_name": "LayoutView",
            "align_content": null,
            "align_items": null,
            "align_self": null,
            "border": null,
            "bottom": null,
            "display": null,
            "flex": null,
            "flex_flow": null,
            "grid_area": null,
            "grid_auto_columns": null,
            "grid_auto_flow": null,
            "grid_auto_rows": null,
            "grid_column": null,
            "grid_gap": null,
            "grid_row": null,
            "grid_template_areas": null,
            "grid_template_columns": null,
            "grid_template_rows": null,
            "height": null,
            "justify_content": null,
            "justify_items": null,
            "left": null,
            "margin": null,
            "max_height": null,
            "max_width": null,
            "min_height": null,
            "min_width": null,
            "object_fit": null,
            "object_position": null,
            "order": null,
            "overflow": null,
            "overflow_x": null,
            "overflow_y": null,
            "padding": null,
            "right": null,
            "top": null,
            "visibility": null,
            "width": null
          }
        },
        "ebf15ffbb3674d4aa297d822f2a3722a": {
          "model_module": "@jupyter-widgets/base",
          "model_name": "LayoutModel",
          "model_module_version": "1.2.0",
          "state": {
            "_model_module": "@jupyter-widgets/base",
            "_model_module_version": "1.2.0",
            "_model_name": "LayoutModel",
            "_view_count": null,
            "_view_module": "@jupyter-widgets/base",
            "_view_module_version": "1.2.0",
            "_view_name": "LayoutView",
            "align_content": null,
            "align_items": null,
            "align_self": null,
            "border": null,
            "bottom": null,
            "display": null,
            "flex": null,
            "flex_flow": null,
            "grid_area": null,
            "grid_auto_columns": null,
            "grid_auto_flow": null,
            "grid_auto_rows": null,
            "grid_column": null,
            "grid_gap": null,
            "grid_row": null,
            "grid_template_areas": null,
            "grid_template_columns": null,
            "grid_template_rows": null,
            "height": null,
            "justify_content": null,
            "justify_items": null,
            "left": null,
            "margin": null,
            "max_height": null,
            "max_width": null,
            "min_height": null,
            "min_width": null,
            "object_fit": null,
            "object_position": null,
            "order": null,
            "overflow": null,
            "overflow_x": null,
            "overflow_y": null,
            "padding": null,
            "right": null,
            "top": null,
            "visibility": null,
            "width": null
          }
        },
        "2f8bdb02d9bd43ed8fb88841f7b96cb4": {
          "model_module": "@jupyter-widgets/controls",
          "model_name": "DescriptionStyleModel",
          "model_module_version": "1.5.0",
          "state": {
            "_model_module": "@jupyter-widgets/controls",
            "_model_module_version": "1.5.0",
            "_model_name": "DescriptionStyleModel",
            "_view_count": null,
            "_view_module": "@jupyter-widgets/base",
            "_view_module_version": "1.2.0",
            "_view_name": "StyleView",
            "description_width": ""
          }
        },
        "5970a49f01fc4fabb48cd3f11f6866a3": {
          "model_module": "@jupyter-widgets/base",
          "model_name": "LayoutModel",
          "model_module_version": "1.2.0",
          "state": {
            "_model_module": "@jupyter-widgets/base",
            "_model_module_version": "1.2.0",
            "_model_name": "LayoutModel",
            "_view_count": null,
            "_view_module": "@jupyter-widgets/base",
            "_view_module_version": "1.2.0",
            "_view_name": "LayoutView",
            "align_content": null,
            "align_items": null,
            "align_self": null,
            "border": null,
            "bottom": null,
            "display": null,
            "flex": null,
            "flex_flow": null,
            "grid_area": null,
            "grid_auto_columns": null,
            "grid_auto_flow": null,
            "grid_auto_rows": null,
            "grid_column": null,
            "grid_gap": null,
            "grid_row": null,
            "grid_template_areas": null,
            "grid_template_columns": null,
            "grid_template_rows": null,
            "height": null,
            "justify_content": null,
            "justify_items": null,
            "left": null,
            "margin": null,
            "max_height": null,
            "max_width": null,
            "min_height": null,
            "min_width": null,
            "object_fit": null,
            "object_position": null,
            "order": null,
            "overflow": null,
            "overflow_x": null,
            "overflow_y": null,
            "padding": null,
            "right": null,
            "top": null,
            "visibility": null,
            "width": null
          }
        },
        "3d6e30906060455a9e467bc37100f195": {
          "model_module": "@jupyter-widgets/controls",
          "model_name": "ProgressStyleModel",
          "model_module_version": "1.5.0",
          "state": {
            "_model_module": "@jupyter-widgets/controls",
            "_model_module_version": "1.5.0",
            "_model_name": "ProgressStyleModel",
            "_view_count": null,
            "_view_module": "@jupyter-widgets/base",
            "_view_module_version": "1.2.0",
            "_view_name": "StyleView",
            "bar_color": null,
            "description_width": ""
          }
        },
        "997a7db172f145b393100e762034443e": {
          "model_module": "@jupyter-widgets/base",
          "model_name": "LayoutModel",
          "model_module_version": "1.2.0",
          "state": {
            "_model_module": "@jupyter-widgets/base",
            "_model_module_version": "1.2.0",
            "_model_name": "LayoutModel",
            "_view_count": null,
            "_view_module": "@jupyter-widgets/base",
            "_view_module_version": "1.2.0",
            "_view_name": "LayoutView",
            "align_content": null,
            "align_items": null,
            "align_self": null,
            "border": null,
            "bottom": null,
            "display": null,
            "flex": null,
            "flex_flow": null,
            "grid_area": null,
            "grid_auto_columns": null,
            "grid_auto_flow": null,
            "grid_auto_rows": null,
            "grid_column": null,
            "grid_gap": null,
            "grid_row": null,
            "grid_template_areas": null,
            "grid_template_columns": null,
            "grid_template_rows": null,
            "height": null,
            "justify_content": null,
            "justify_items": null,
            "left": null,
            "margin": null,
            "max_height": null,
            "max_width": null,
            "min_height": null,
            "min_width": null,
            "object_fit": null,
            "object_position": null,
            "order": null,
            "overflow": null,
            "overflow_x": null,
            "overflow_y": null,
            "padding": null,
            "right": null,
            "top": null,
            "visibility": null,
            "width": null
          }
        },
        "54052eb7ce77455a94084fcecec5bf70": {
          "model_module": "@jupyter-widgets/controls",
          "model_name": "DescriptionStyleModel",
          "model_module_version": "1.5.0",
          "state": {
            "_model_module": "@jupyter-widgets/controls",
            "_model_module_version": "1.5.0",
            "_model_name": "DescriptionStyleModel",
            "_view_count": null,
            "_view_module": "@jupyter-widgets/base",
            "_view_module_version": "1.2.0",
            "_view_name": "StyleView",
            "description_width": ""
          }
        }
      }
    }
  },
  "nbformat": 4,
  "nbformat_minor": 0
}